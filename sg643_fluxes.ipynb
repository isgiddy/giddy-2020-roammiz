{
 "cells": [
  {
   "cell_type": "markdown",
   "metadata": {
    "ExecuteTime": {
     "end_time": "2020-08-17T07:59:42.833083Z",
     "start_time": "2020-08-17T07:59:39.034145Z"
    }
   },
   "source": [
    "# Submesoscale processes in the ice-impacted SO\n",
    "\n",
    "This notebook describes the analysis followed by Giddy et al. \n",
    "\n",
    "To start, data is called and plotted as an overview\n",
    "\n",
    "* Linearly Interpolated Seaglider data are input (the pre-processing and interpolation will be provided in a separate notebook)\n",
    "* Additional data is called from ERA5, Copernicus, Bremen, AVISO\n",
    "* Some regional plots are produced - these feed into Figure 1\n",
    "\n",
    "Then, the following analyses are performed:\n",
    "\n",
    "* Analysis of upper ocean vertical and horizontal buoyancy\n",
    "* Turner angle analysis to assess the contributions of salinity and temperature to vertical and horizontal stratification\n",
    "* MLI growthrates\n",
    "* Atmospheric derived equivalent heat fluxes are computed (Qnet,FWF,mesoscale EBF)\n",
    "* Submesocale equivalent heat fluxes are calculated, an example of the methodology is provided\n",
    "* Spectral Analysis of the mixed layer density variation \n",
    "* Spice analysis to explain cross isopycnal separation \n"
   ]
  },
  {
   "cell_type": "code",
   "execution_count": 1,
   "metadata": {
    "ExecuteTime": {
     "end_time": "2020-08-17T21:46:11.118314Z",
     "start_time": "2020-08-17T21:46:09.353415Z"
    }
   },
   "outputs": [
    {
     "name": "stderr",
     "output_type": "stream",
     "text": [
      "/Users/isabelle/opt/anaconda3/lib/python3.7/site-packages/glidertools/mapping.py:1336: GliderToolsWarning: PyKrige is not installed. To enable the variogram function please run `pip install pykrige`. Variograms are required for sensible 2D interpolation.\n",
      "  warnings.warn(message, category=GliderToolsWarning)\n"
     ]
    }
   ],
   "source": [
    "# Load modules\n",
    "\n",
    "import numpy as np\n",
    "import os, sys\n",
    "sys.path.insert(0, 'functions/')\n",
    "\n",
    "import sms_fluxes\n",
    "import gsw\n",
    "\n",
    "import xarray as xr\n",
    "import pandas as pd\n",
    "import matplotlib.pyplot as plt\n",
    "import matplotlib.dates as mdates\n",
    "import cmocean.cm as cmo\n",
    "\n",
    "import glidertools as gt\n",
    "\n",
    "import matplotlib.gridspec as gridspec\n",
    "from mpl_toolkits.axes_grid1.inset_locator import inset_axes ,InsetPosition,mark_inset\n",
    "import cmocean.cm as cmo\n",
    "\n",
    "from scipy.interpolate import griddata as g\n"
   ]
  },
  {
   "cell_type": "code",
   "execution_count": 2,
   "metadata": {
    "ExecuteTime": {
     "end_time": "2020-08-17T21:46:11.123714Z",
     "start_time": "2020-08-17T21:46:11.120569Z"
    }
   },
   "outputs": [],
   "source": [
    "from matplotlib import rc\n",
    "rc('font',**{'size':14})\n",
    "params = {'mathtext.default': 'regular' }          \n",
    "plt.rcParams.update(params)"
   ]
  },
  {
   "cell_type": "code",
   "execution_count": 3,
   "metadata": {
    "ExecuteTime": {
     "end_time": "2020-08-17T21:46:11.129095Z",
     "start_time": "2020-08-17T21:46:11.126739Z"
    }
   },
   "outputs": [],
   "source": [
    "# Load data"
   ]
  },
  {
   "cell_type": "code",
   "execution_count": 4,
   "metadata": {
    "ExecuteTime": {
     "end_time": "2020-08-17T21:46:14.254664Z",
     "start_time": "2020-08-17T21:46:11.131130Z"
    }
   },
   "outputs": [],
   "source": [
    "# Glider data - sg643\n",
    "# This data has already been interpolated\n",
    "datadir ='data/sg643/'\n",
    "dat=xr.open_dataset(os.path.join(datadir,'sg643_linterp.nc'))\n",
    "\n",
    "\n",
    "SA=(dat.salt)\n",
    "CT=(dat.temp)\n",
    "rho=(dat.dens)\n",
    "depth=dat.depth\n",
    "lat=(dat.lat[15,:])\n",
    "lon=(dat.lon[15,:])\n",
    "dist=(dat.distance)\n",
    "glider_dir=np.array(sms_fluxes.calc_glider_traj(lat,lon)) # Glider Trajectory"
   ]
  },
  {
   "cell_type": "code",
   "execution_count": 5,
   "metadata": {
    "ExecuteTime": {
     "end_time": "2020-08-17T21:46:14.263467Z",
     "start_time": "2020-08-17T21:46:14.256438Z"
    }
   },
   "outputs": [],
   "source": [
    "time=pd.Series(dat.time[20:25,:].mean(dim='depth')).interpolate(method='pad')"
   ]
  },
  {
   "cell_type": "code",
   "execution_count": 6,
   "metadata": {
    "ExecuteTime": {
     "end_time": "2020-08-17T21:46:14.266879Z",
     "start_time": "2020-08-17T21:46:14.265039Z"
    }
   },
   "outputs": [],
   "source": [
    "# Load auxillary data"
   ]
  },
  {
   "cell_type": "code",
   "execution_count": 7,
   "metadata": {
    "ExecuteTime": {
     "end_time": "2020-08-17T21:46:14.921379Z",
     "start_time": "2020-08-17T21:46:14.885304Z"
    }
   },
   "outputs": [],
   "source": [
    "# ERA5\n",
    "\n",
    "# Winds - ERA5\n",
    "era5_winds=xr.open_dataset('data/era5/era5_winds.nc')\n",
    "era5w_subset=era5_winds.sel(latitude=-60,longitude=0)\n",
    "\n",
    "#Heat fluxes\n",
    "# Load annual cycle heat flux\n",
    "era5_annual = xr.open_dataset('data/era5/era5_htflux.nc')\n",
    "latent=era5_annual.mslhf.mean(dim='latitude').mean(dim='longitude')\n",
    "longwave=era5_annual.msnlwrf.mean(dim='latitude').mean(dim='longitude')\n",
    "shortwave=era5_annual.msnswrf.mean(dim='latitude').mean(dim='longitude')\n",
    "sensible=era5_annual.msshf.mean(dim='latitude').mean(dim='longitude')\n",
    "Qnet = latent+longwave+shortwave+sensible\n",
    "\n",
    "#Freshwater Fluxes\n",
    "erafw = xr.open_dataset('data/era5/sg643_fwf.nc')\n",
    "erafw=erafw.sel(latitude=-60.0,longitude=0)\n",
    "fwfms = (erafw.mer+erafw.mtpr)/3600  # convert to seconds\n"
   ]
  },
  {
   "cell_type": "code",
   "execution_count": 8,
   "metadata": {
    "ExecuteTime": {
     "end_time": "2020-08-17T21:46:15.760275Z",
     "start_time": "2020-08-17T21:46:15.712238Z"
    }
   },
   "outputs": [],
   "source": [
    "xr.open_dataset?"
   ]
  },
  {
   "cell_type": "code",
   "execution_count": 10,
   "metadata": {
    "ExecuteTime": {
     "end_time": "2020-08-17T21:46:26.761553Z",
     "start_time": "2020-08-17T21:46:25.747597Z"
    }
   },
   "outputs": [],
   "source": [
    "# Sea Ice\n",
    "\n",
    "datadir='data/'\n",
    "ds_si=xr.open_mfdataset(os.path.join(datadir,'seaice/*.nc'),combine='nested',concat_dim='time')\n",
    "ds_coords=xr.open_dataset(os.path.join(datadir,'seaice/LongitudeLatitudeGrid-s6250-Antarctic.hdf'))\n",
    "ln = ds_coords.Longitudes.values\n",
    "lt = ds_coords.Latitudes.values\n",
    "\n"
   ]
  },
  {
   "cell_type": "code",
   "execution_count": 7,
   "metadata": {
    "ExecuteTime": {
     "end_time": "2020-08-17T21:22:47.854219Z",
     "start_time": "2020-08-17T21:22:46.625165Z"
    }
   },
   "outputs": [
    {
     "ename": "OSError",
     "evalue": "[Errno -51] NetCDF: Unknown file format: b'/Users/isabelle/Documents/git/roammiz-giddy-2020/data/seaice/LongitudeLatitudeGrid-s6250-Antarctic.hdf'",
     "output_type": "error",
     "traceback": [
      "\u001b[0;31m---------------------------------------------------------------------------\u001b[0m",
      "\u001b[0;31mKeyError\u001b[0m                                  Traceback (most recent call last)",
      "\u001b[0;32m/Users/isabelle/opt/anaconda3/envs/roammiz/lib/python3.6/site-packages/xarray/backends/file_manager.py\u001b[0m in \u001b[0;36m_acquire_with_cache_info\u001b[0;34m(self, needs_lock)\u001b[0m\n\u001b[1;32m    197\u001b[0m             \u001b[0;32mtry\u001b[0m\u001b[0;34m:\u001b[0m\u001b[0;34m\u001b[0m\u001b[0;34m\u001b[0m\u001b[0m\n\u001b[0;32m--> 198\u001b[0;31m                 \u001b[0mfile\u001b[0m \u001b[0;34m=\u001b[0m \u001b[0mself\u001b[0m\u001b[0;34m.\u001b[0m\u001b[0m_cache\u001b[0m\u001b[0;34m[\u001b[0m\u001b[0mself\u001b[0m\u001b[0;34m.\u001b[0m\u001b[0m_key\u001b[0m\u001b[0;34m]\u001b[0m\u001b[0;34m\u001b[0m\u001b[0;34m\u001b[0m\u001b[0m\n\u001b[0m\u001b[1;32m    199\u001b[0m             \u001b[0;32mexcept\u001b[0m \u001b[0mKeyError\u001b[0m\u001b[0;34m:\u001b[0m\u001b[0;34m\u001b[0m\u001b[0;34m\u001b[0m\u001b[0m\n",
      "\u001b[0;32m/Users/isabelle/opt/anaconda3/envs/roammiz/lib/python3.6/site-packages/xarray/backends/lru_cache.py\u001b[0m in \u001b[0;36m__getitem__\u001b[0;34m(self, key)\u001b[0m\n\u001b[1;32m     52\u001b[0m         \u001b[0;32mwith\u001b[0m \u001b[0mself\u001b[0m\u001b[0;34m.\u001b[0m\u001b[0m_lock\u001b[0m\u001b[0;34m:\u001b[0m\u001b[0;34m\u001b[0m\u001b[0;34m\u001b[0m\u001b[0m\n\u001b[0;32m---> 53\u001b[0;31m             \u001b[0mvalue\u001b[0m \u001b[0;34m=\u001b[0m \u001b[0mself\u001b[0m\u001b[0;34m.\u001b[0m\u001b[0m_cache\u001b[0m\u001b[0;34m[\u001b[0m\u001b[0mkey\u001b[0m\u001b[0;34m]\u001b[0m\u001b[0;34m\u001b[0m\u001b[0;34m\u001b[0m\u001b[0m\n\u001b[0m\u001b[1;32m     54\u001b[0m             \u001b[0mself\u001b[0m\u001b[0;34m.\u001b[0m\u001b[0m_cache\u001b[0m\u001b[0;34m.\u001b[0m\u001b[0mmove_to_end\u001b[0m\u001b[0;34m(\u001b[0m\u001b[0mkey\u001b[0m\u001b[0;34m)\u001b[0m\u001b[0;34m\u001b[0m\u001b[0;34m\u001b[0m\u001b[0m\n",
      "\u001b[0;31mKeyError\u001b[0m: [<class 'netCDF4._netCDF4.Dataset'>, ('/Users/isabelle/Documents/git/roammiz-giddy-2020/data/seaice/LongitudeLatitudeGrid-s6250-Antarctic.hdf',), 'r', (('clobber', True), ('diskless', False), ('format', 'NETCDF4'), ('persist', False))]",
      "\nDuring handling of the above exception, another exception occurred:\n",
      "\u001b[0;31mOSError\u001b[0m                                   Traceback (most recent call last)",
      "\u001b[0;32m<ipython-input-7-75182b5ac158>\u001b[0m in \u001b[0;36m<module>\u001b[0;34m()\u001b[0m\n\u001b[1;32m      3\u001b[0m \u001b[0mdatadir\u001b[0m\u001b[0;34m=\u001b[0m\u001b[0;34m'data/'\u001b[0m\u001b[0;34m\u001b[0m\u001b[0;34m\u001b[0m\u001b[0m\n\u001b[1;32m      4\u001b[0m \u001b[0mds_si\u001b[0m\u001b[0;34m=\u001b[0m\u001b[0mxr\u001b[0m\u001b[0;34m.\u001b[0m\u001b[0mopen_mfdataset\u001b[0m\u001b[0;34m(\u001b[0m\u001b[0mos\u001b[0m\u001b[0;34m.\u001b[0m\u001b[0mpath\u001b[0m\u001b[0;34m.\u001b[0m\u001b[0mjoin\u001b[0m\u001b[0;34m(\u001b[0m\u001b[0mdatadir\u001b[0m\u001b[0;34m,\u001b[0m\u001b[0;34m'seaice/*.nc'\u001b[0m\u001b[0;34m)\u001b[0m\u001b[0;34m,\u001b[0m\u001b[0mcombine\u001b[0m\u001b[0;34m=\u001b[0m\u001b[0;34m'nested'\u001b[0m\u001b[0;34m,\u001b[0m\u001b[0mconcat_dim\u001b[0m\u001b[0;34m=\u001b[0m\u001b[0;34m'time'\u001b[0m\u001b[0;34m)\u001b[0m\u001b[0;34m\u001b[0m\u001b[0;34m\u001b[0m\u001b[0m\n\u001b[0;32m----> 5\u001b[0;31m \u001b[0mds_coords\u001b[0m\u001b[0;34m=\u001b[0m\u001b[0mxr\u001b[0m\u001b[0;34m.\u001b[0m\u001b[0mopen_dataset\u001b[0m\u001b[0;34m(\u001b[0m\u001b[0mos\u001b[0m\u001b[0;34m.\u001b[0m\u001b[0mpath\u001b[0m\u001b[0;34m.\u001b[0m\u001b[0mjoin\u001b[0m\u001b[0;34m(\u001b[0m\u001b[0mdatadir\u001b[0m\u001b[0;34m,\u001b[0m\u001b[0;34m'seaice/LongitudeLatitudeGrid-s6250-Antarctic.hdf'\u001b[0m\u001b[0;34m)\u001b[0m\u001b[0;34m)\u001b[0m\u001b[0;34m\u001b[0m\u001b[0;34m\u001b[0m\u001b[0m\n\u001b[0m\u001b[1;32m      6\u001b[0m \u001b[0mln\u001b[0m \u001b[0;34m=\u001b[0m \u001b[0mds_coords\u001b[0m\u001b[0;34m.\u001b[0m\u001b[0mLongitudes\u001b[0m\u001b[0;34m.\u001b[0m\u001b[0mvalues\u001b[0m\u001b[0;34m\u001b[0m\u001b[0;34m\u001b[0m\u001b[0m\n\u001b[1;32m      7\u001b[0m \u001b[0mlt\u001b[0m \u001b[0;34m=\u001b[0m \u001b[0mds_coords\u001b[0m\u001b[0;34m.\u001b[0m\u001b[0mLatitudes\u001b[0m\u001b[0;34m.\u001b[0m\u001b[0mvalues\u001b[0m\u001b[0;34m\u001b[0m\u001b[0;34m\u001b[0m\u001b[0m\n",
      "\u001b[0;32m/Users/isabelle/opt/anaconda3/envs/roammiz/lib/python3.6/site-packages/xarray/backends/api.py\u001b[0m in \u001b[0;36mopen_dataset\u001b[0;34m(filename_or_obj, group, decode_cf, mask_and_scale, decode_times, autoclose, concat_characters, decode_coords, engine, chunks, lock, cache, drop_variables, backend_kwargs, use_cftime, decode_timedelta)\u001b[0m\n\u001b[1;32m    507\u001b[0m         \u001b[0;32mif\u001b[0m \u001b[0mengine\u001b[0m \u001b[0;34m==\u001b[0m \u001b[0;34m\"netcdf4\"\u001b[0m\u001b[0;34m:\u001b[0m\u001b[0;34m\u001b[0m\u001b[0;34m\u001b[0m\u001b[0m\n\u001b[1;32m    508\u001b[0m             store = backends.NetCDF4DataStore.open(\n\u001b[0;32m--> 509\u001b[0;31m                 \u001b[0mfilename_or_obj\u001b[0m\u001b[0;34m,\u001b[0m \u001b[0mgroup\u001b[0m\u001b[0;34m=\u001b[0m\u001b[0mgroup\u001b[0m\u001b[0;34m,\u001b[0m \u001b[0mlock\u001b[0m\u001b[0;34m=\u001b[0m\u001b[0mlock\u001b[0m\u001b[0;34m,\u001b[0m \u001b[0;34m**\u001b[0m\u001b[0mbackend_kwargs\u001b[0m\u001b[0;34m\u001b[0m\u001b[0;34m\u001b[0m\u001b[0m\n\u001b[0m\u001b[1;32m    510\u001b[0m             )\n\u001b[1;32m    511\u001b[0m         \u001b[0;32melif\u001b[0m \u001b[0mengine\u001b[0m \u001b[0;34m==\u001b[0m \u001b[0;34m\"scipy\"\u001b[0m\u001b[0;34m:\u001b[0m\u001b[0;34m\u001b[0m\u001b[0;34m\u001b[0m\u001b[0m\n",
      "\u001b[0;32m/Users/isabelle/opt/anaconda3/envs/roammiz/lib/python3.6/site-packages/xarray/backends/netCDF4_.py\u001b[0m in \u001b[0;36mopen\u001b[0;34m(cls, filename, mode, format, group, clobber, diskless, persist, lock, lock_maker, autoclose)\u001b[0m\n\u001b[1;32m    356\u001b[0m             \u001b[0mnetCDF4\u001b[0m\u001b[0;34m.\u001b[0m\u001b[0mDataset\u001b[0m\u001b[0;34m,\u001b[0m \u001b[0mfilename\u001b[0m\u001b[0;34m,\u001b[0m \u001b[0mmode\u001b[0m\u001b[0;34m=\u001b[0m\u001b[0mmode\u001b[0m\u001b[0;34m,\u001b[0m \u001b[0mkwargs\u001b[0m\u001b[0;34m=\u001b[0m\u001b[0mkwargs\u001b[0m\u001b[0;34m\u001b[0m\u001b[0;34m\u001b[0m\u001b[0m\n\u001b[1;32m    357\u001b[0m         )\n\u001b[0;32m--> 358\u001b[0;31m         \u001b[0;32mreturn\u001b[0m \u001b[0mcls\u001b[0m\u001b[0;34m(\u001b[0m\u001b[0mmanager\u001b[0m\u001b[0;34m,\u001b[0m \u001b[0mgroup\u001b[0m\u001b[0;34m=\u001b[0m\u001b[0mgroup\u001b[0m\u001b[0;34m,\u001b[0m \u001b[0mmode\u001b[0m\u001b[0;34m=\u001b[0m\u001b[0mmode\u001b[0m\u001b[0;34m,\u001b[0m \u001b[0mlock\u001b[0m\u001b[0;34m=\u001b[0m\u001b[0mlock\u001b[0m\u001b[0;34m,\u001b[0m \u001b[0mautoclose\u001b[0m\u001b[0;34m=\u001b[0m\u001b[0mautoclose\u001b[0m\u001b[0;34m)\u001b[0m\u001b[0;34m\u001b[0m\u001b[0;34m\u001b[0m\u001b[0m\n\u001b[0m\u001b[1;32m    359\u001b[0m \u001b[0;34m\u001b[0m\u001b[0m\n\u001b[1;32m    360\u001b[0m     \u001b[0;32mdef\u001b[0m \u001b[0m_acquire\u001b[0m\u001b[0;34m(\u001b[0m\u001b[0mself\u001b[0m\u001b[0;34m,\u001b[0m \u001b[0mneeds_lock\u001b[0m\u001b[0;34m=\u001b[0m\u001b[0;32mTrue\u001b[0m\u001b[0;34m)\u001b[0m\u001b[0;34m:\u001b[0m\u001b[0;34m\u001b[0m\u001b[0;34m\u001b[0m\u001b[0m\n",
      "\u001b[0;32m/Users/isabelle/opt/anaconda3/envs/roammiz/lib/python3.6/site-packages/xarray/backends/netCDF4_.py\u001b[0m in \u001b[0;36m__init__\u001b[0;34m(self, manager, group, mode, lock, autoclose)\u001b[0m\n\u001b[1;32m    312\u001b[0m         \u001b[0mself\u001b[0m\u001b[0;34m.\u001b[0m\u001b[0m_group\u001b[0m \u001b[0;34m=\u001b[0m \u001b[0mgroup\u001b[0m\u001b[0;34m\u001b[0m\u001b[0;34m\u001b[0m\u001b[0m\n\u001b[1;32m    313\u001b[0m         \u001b[0mself\u001b[0m\u001b[0;34m.\u001b[0m\u001b[0m_mode\u001b[0m \u001b[0;34m=\u001b[0m \u001b[0mmode\u001b[0m\u001b[0;34m\u001b[0m\u001b[0;34m\u001b[0m\u001b[0m\n\u001b[0;32m--> 314\u001b[0;31m         \u001b[0mself\u001b[0m\u001b[0;34m.\u001b[0m\u001b[0mformat\u001b[0m \u001b[0;34m=\u001b[0m \u001b[0mself\u001b[0m\u001b[0;34m.\u001b[0m\u001b[0mds\u001b[0m\u001b[0;34m.\u001b[0m\u001b[0mdata_model\u001b[0m\u001b[0;34m\u001b[0m\u001b[0;34m\u001b[0m\u001b[0m\n\u001b[0m\u001b[1;32m    315\u001b[0m         \u001b[0mself\u001b[0m\u001b[0;34m.\u001b[0m\u001b[0m_filename\u001b[0m \u001b[0;34m=\u001b[0m \u001b[0mself\u001b[0m\u001b[0;34m.\u001b[0m\u001b[0mds\u001b[0m\u001b[0;34m.\u001b[0m\u001b[0mfilepath\u001b[0m\u001b[0;34m(\u001b[0m\u001b[0;34m)\u001b[0m\u001b[0;34m\u001b[0m\u001b[0;34m\u001b[0m\u001b[0m\n\u001b[1;32m    316\u001b[0m         \u001b[0mself\u001b[0m\u001b[0;34m.\u001b[0m\u001b[0mis_remote\u001b[0m \u001b[0;34m=\u001b[0m \u001b[0mis_remote_uri\u001b[0m\u001b[0;34m(\u001b[0m\u001b[0mself\u001b[0m\u001b[0;34m.\u001b[0m\u001b[0m_filename\u001b[0m\u001b[0;34m)\u001b[0m\u001b[0;34m\u001b[0m\u001b[0;34m\u001b[0m\u001b[0m\n",
      "\u001b[0;32m/Users/isabelle/opt/anaconda3/envs/roammiz/lib/python3.6/site-packages/xarray/backends/netCDF4_.py\u001b[0m in \u001b[0;36mds\u001b[0;34m(self)\u001b[0m\n\u001b[1;32m    365\u001b[0m     \u001b[0;34m@\u001b[0m\u001b[0mproperty\u001b[0m\u001b[0;34m\u001b[0m\u001b[0;34m\u001b[0m\u001b[0m\n\u001b[1;32m    366\u001b[0m     \u001b[0;32mdef\u001b[0m \u001b[0mds\u001b[0m\u001b[0;34m(\u001b[0m\u001b[0mself\u001b[0m\u001b[0;34m)\u001b[0m\u001b[0;34m:\u001b[0m\u001b[0;34m\u001b[0m\u001b[0;34m\u001b[0m\u001b[0m\n\u001b[0;32m--> 367\u001b[0;31m         \u001b[0;32mreturn\u001b[0m \u001b[0mself\u001b[0m\u001b[0;34m.\u001b[0m\u001b[0m_acquire\u001b[0m\u001b[0;34m(\u001b[0m\u001b[0;34m)\u001b[0m\u001b[0;34m\u001b[0m\u001b[0;34m\u001b[0m\u001b[0m\n\u001b[0m\u001b[1;32m    368\u001b[0m \u001b[0;34m\u001b[0m\u001b[0m\n\u001b[1;32m    369\u001b[0m     \u001b[0;32mdef\u001b[0m \u001b[0mopen_store_variable\u001b[0m\u001b[0;34m(\u001b[0m\u001b[0mself\u001b[0m\u001b[0;34m,\u001b[0m \u001b[0mname\u001b[0m\u001b[0;34m,\u001b[0m \u001b[0mvar\u001b[0m\u001b[0;34m)\u001b[0m\u001b[0;34m:\u001b[0m\u001b[0;34m\u001b[0m\u001b[0;34m\u001b[0m\u001b[0m\n",
      "\u001b[0;32m/Users/isabelle/opt/anaconda3/envs/roammiz/lib/python3.6/site-packages/xarray/backends/netCDF4_.py\u001b[0m in \u001b[0;36m_acquire\u001b[0;34m(self, needs_lock)\u001b[0m\n\u001b[1;32m    359\u001b[0m \u001b[0;34m\u001b[0m\u001b[0m\n\u001b[1;32m    360\u001b[0m     \u001b[0;32mdef\u001b[0m \u001b[0m_acquire\u001b[0m\u001b[0;34m(\u001b[0m\u001b[0mself\u001b[0m\u001b[0;34m,\u001b[0m \u001b[0mneeds_lock\u001b[0m\u001b[0;34m=\u001b[0m\u001b[0;32mTrue\u001b[0m\u001b[0;34m)\u001b[0m\u001b[0;34m:\u001b[0m\u001b[0;34m\u001b[0m\u001b[0;34m\u001b[0m\u001b[0m\n\u001b[0;32m--> 361\u001b[0;31m         \u001b[0;32mwith\u001b[0m \u001b[0mself\u001b[0m\u001b[0;34m.\u001b[0m\u001b[0m_manager\u001b[0m\u001b[0;34m.\u001b[0m\u001b[0macquire_context\u001b[0m\u001b[0;34m(\u001b[0m\u001b[0mneeds_lock\u001b[0m\u001b[0;34m)\u001b[0m \u001b[0;32mas\u001b[0m \u001b[0mroot\u001b[0m\u001b[0;34m:\u001b[0m\u001b[0;34m\u001b[0m\u001b[0;34m\u001b[0m\u001b[0m\n\u001b[0m\u001b[1;32m    362\u001b[0m             \u001b[0mds\u001b[0m \u001b[0;34m=\u001b[0m \u001b[0m_nc4_require_group\u001b[0m\u001b[0;34m(\u001b[0m\u001b[0mroot\u001b[0m\u001b[0;34m,\u001b[0m \u001b[0mself\u001b[0m\u001b[0;34m.\u001b[0m\u001b[0m_group\u001b[0m\u001b[0;34m,\u001b[0m \u001b[0mself\u001b[0m\u001b[0;34m.\u001b[0m\u001b[0m_mode\u001b[0m\u001b[0;34m)\u001b[0m\u001b[0;34m\u001b[0m\u001b[0;34m\u001b[0m\u001b[0m\n\u001b[1;32m    363\u001b[0m         \u001b[0;32mreturn\u001b[0m \u001b[0mds\u001b[0m\u001b[0;34m\u001b[0m\u001b[0;34m\u001b[0m\u001b[0m\n",
      "\u001b[0;32m/Users/isabelle/opt/anaconda3/envs/roammiz/lib/python3.6/contextlib.py\u001b[0m in \u001b[0;36m__enter__\u001b[0;34m(self)\u001b[0m\n\u001b[1;32m     79\u001b[0m     \u001b[0;32mdef\u001b[0m \u001b[0m__enter__\u001b[0m\u001b[0;34m(\u001b[0m\u001b[0mself\u001b[0m\u001b[0;34m)\u001b[0m\u001b[0;34m:\u001b[0m\u001b[0;34m\u001b[0m\u001b[0;34m\u001b[0m\u001b[0m\n\u001b[1;32m     80\u001b[0m         \u001b[0;32mtry\u001b[0m\u001b[0;34m:\u001b[0m\u001b[0;34m\u001b[0m\u001b[0;34m\u001b[0m\u001b[0m\n\u001b[0;32m---> 81\u001b[0;31m             \u001b[0;32mreturn\u001b[0m \u001b[0mnext\u001b[0m\u001b[0;34m(\u001b[0m\u001b[0mself\u001b[0m\u001b[0;34m.\u001b[0m\u001b[0mgen\u001b[0m\u001b[0;34m)\u001b[0m\u001b[0;34m\u001b[0m\u001b[0;34m\u001b[0m\u001b[0m\n\u001b[0m\u001b[1;32m     82\u001b[0m         \u001b[0;32mexcept\u001b[0m \u001b[0mStopIteration\u001b[0m\u001b[0;34m:\u001b[0m\u001b[0;34m\u001b[0m\u001b[0;34m\u001b[0m\u001b[0m\n\u001b[1;32m     83\u001b[0m             \u001b[0;32mraise\u001b[0m \u001b[0mRuntimeError\u001b[0m\u001b[0;34m(\u001b[0m\u001b[0;34m\"generator didn't yield\"\u001b[0m\u001b[0;34m)\u001b[0m \u001b[0;32mfrom\u001b[0m \u001b[0;32mNone\u001b[0m\u001b[0;34m\u001b[0m\u001b[0;34m\u001b[0m\u001b[0m\n",
      "\u001b[0;32m/Users/isabelle/opt/anaconda3/envs/roammiz/lib/python3.6/site-packages/xarray/backends/file_manager.py\u001b[0m in \u001b[0;36macquire_context\u001b[0;34m(self, needs_lock)\u001b[0m\n\u001b[1;32m    184\u001b[0m     \u001b[0;32mdef\u001b[0m \u001b[0macquire_context\u001b[0m\u001b[0;34m(\u001b[0m\u001b[0mself\u001b[0m\u001b[0;34m,\u001b[0m \u001b[0mneeds_lock\u001b[0m\u001b[0;34m=\u001b[0m\u001b[0;32mTrue\u001b[0m\u001b[0;34m)\u001b[0m\u001b[0;34m:\u001b[0m\u001b[0;34m\u001b[0m\u001b[0;34m\u001b[0m\u001b[0m\n\u001b[1;32m    185\u001b[0m         \u001b[0;34m\"\"\"Context manager for acquiring a file.\"\"\"\u001b[0m\u001b[0;34m\u001b[0m\u001b[0;34m\u001b[0m\u001b[0m\n\u001b[0;32m--> 186\u001b[0;31m         \u001b[0mfile\u001b[0m\u001b[0;34m,\u001b[0m \u001b[0mcached\u001b[0m \u001b[0;34m=\u001b[0m \u001b[0mself\u001b[0m\u001b[0;34m.\u001b[0m\u001b[0m_acquire_with_cache_info\u001b[0m\u001b[0;34m(\u001b[0m\u001b[0mneeds_lock\u001b[0m\u001b[0;34m)\u001b[0m\u001b[0;34m\u001b[0m\u001b[0;34m\u001b[0m\u001b[0m\n\u001b[0m\u001b[1;32m    187\u001b[0m         \u001b[0;32mtry\u001b[0m\u001b[0;34m:\u001b[0m\u001b[0;34m\u001b[0m\u001b[0;34m\u001b[0m\u001b[0m\n\u001b[1;32m    188\u001b[0m             \u001b[0;32myield\u001b[0m \u001b[0mfile\u001b[0m\u001b[0;34m\u001b[0m\u001b[0;34m\u001b[0m\u001b[0m\n",
      "\u001b[0;32m/Users/isabelle/opt/anaconda3/envs/roammiz/lib/python3.6/site-packages/xarray/backends/file_manager.py\u001b[0m in \u001b[0;36m_acquire_with_cache_info\u001b[0;34m(self, needs_lock)\u001b[0m\n\u001b[1;32m    202\u001b[0m                     \u001b[0mkwargs\u001b[0m \u001b[0;34m=\u001b[0m \u001b[0mkwargs\u001b[0m\u001b[0;34m.\u001b[0m\u001b[0mcopy\u001b[0m\u001b[0;34m(\u001b[0m\u001b[0;34m)\u001b[0m\u001b[0;34m\u001b[0m\u001b[0;34m\u001b[0m\u001b[0m\n\u001b[1;32m    203\u001b[0m                     \u001b[0mkwargs\u001b[0m\u001b[0;34m[\u001b[0m\u001b[0;34m\"mode\"\u001b[0m\u001b[0;34m]\u001b[0m \u001b[0;34m=\u001b[0m \u001b[0mself\u001b[0m\u001b[0;34m.\u001b[0m\u001b[0m_mode\u001b[0m\u001b[0;34m\u001b[0m\u001b[0;34m\u001b[0m\u001b[0m\n\u001b[0;32m--> 204\u001b[0;31m                 \u001b[0mfile\u001b[0m \u001b[0;34m=\u001b[0m \u001b[0mself\u001b[0m\u001b[0;34m.\u001b[0m\u001b[0m_opener\u001b[0m\u001b[0;34m(\u001b[0m\u001b[0;34m*\u001b[0m\u001b[0mself\u001b[0m\u001b[0;34m.\u001b[0m\u001b[0m_args\u001b[0m\u001b[0;34m,\u001b[0m \u001b[0;34m**\u001b[0m\u001b[0mkwargs\u001b[0m\u001b[0;34m)\u001b[0m\u001b[0;34m\u001b[0m\u001b[0;34m\u001b[0m\u001b[0m\n\u001b[0m\u001b[1;32m    205\u001b[0m                 \u001b[0;32mif\u001b[0m \u001b[0mself\u001b[0m\u001b[0;34m.\u001b[0m\u001b[0m_mode\u001b[0m \u001b[0;34m==\u001b[0m \u001b[0;34m\"w\"\u001b[0m\u001b[0;34m:\u001b[0m\u001b[0;34m\u001b[0m\u001b[0;34m\u001b[0m\u001b[0m\n\u001b[1;32m    206\u001b[0m                     \u001b[0;31m# ensure file doesn't get overriden when opened again\u001b[0m\u001b[0;34m\u001b[0m\u001b[0;34m\u001b[0m\u001b[0;34m\u001b[0m\u001b[0m\n",
      "\u001b[0;32mnetCDF4/_netCDF4.pyx\u001b[0m in \u001b[0;36mnetCDF4._netCDF4.Dataset.__init__\u001b[0;34m()\u001b[0m\n",
      "\u001b[0;32mnetCDF4/_netCDF4.pyx\u001b[0m in \u001b[0;36mnetCDF4._netCDF4._ensure_nc_success\u001b[0;34m()\u001b[0m\n",
      "\u001b[0;31mOSError\u001b[0m: [Errno -51] NetCDF: Unknown file format: b'/Users/isabelle/Documents/git/roammiz-giddy-2020/data/seaice/LongitudeLatitudeGrid-s6250-Antarctic.hdf'"
     ]
    }
   ],
   "source": [
    "\n",
    "ls = os.listdir(os.path.join(datadir,'seaice'))\n",
    "ls.sort()\n",
    "sic_date=[]\n",
    "for filename in ls:\n",
    "    if filename[-2:] == 'nc':\n",
    "        try:\n",
    "            sic_date.append(pd.to_datetime(str(filename)[-14:-5]))\n",
    "        except: 'Value Error', sic_date.append(pd.to_datetime(str(filename)[-16:-8]))\n",
    "sic_date=pd.Series(sic_date)\n",
    "\n",
    "seaice=ds_si.ASI_Ice_Concentration\n",
    "\n",
    "print('starting interpolation')\n",
    "X = np.arange(-180 ,180, 0.05)\n",
    "Y = np.arange(-80, -49.95, 0.05)\n",
    "x, y = np.meshgrid(X,Y)\n",
    "sic_new = np.ndarray([len(seaice.time), len(Y), len(X)])\n",
    "print(sic_date[348])\n",
    "\n",
    "i=348\n",
    "print('ravelling')\n",
    "x_, y_ = np.ravel(ln), np.ravel(lt)\n",
    "x_[x_>180] = x_[x_>180]-360\n",
    "print('ravelling sea ice')\n",
    "si = np.ravel(seaice[i,:,:])\n",
    "print(si.shape)\n",
    "print('doing the interpolation')\n",
    "sic_new[i,:,:] = g((y_, x_), si, (y, x), method='linear')\n",
    "sic_new[sic_new==0] = np.NaN\n",
    "\n",
    "# identify indices of seaice at roammiz site\n",
    "ind=np.array(np.where((lt>-61)&(lt<-59)&(ln>-1)&(ln<1)))\n"
   ]
  },
  {
   "cell_type": "code",
   "execution_count": null,
   "metadata": {
    "ExecuteTime": {
     "end_time": "2020-08-17T21:13:14.589828Z",
     "start_time": "2020-08-17T21:13:14.318Z"
    }
   },
   "outputs": [],
   "source": [
    "# Sentinal 3A, Chl sat OCLI\n",
    "chl=xr.open_dataset('data/chla/S3A_OL_2_WFR____20190107T090544_20190107T090844_20190107T105111_0179_040_064_3960_MAR_O_NR_002.nc')"
   ]
  },
  {
   "cell_type": "code",
   "execution_count": null,
   "metadata": {
    "ExecuteTime": {
     "end_time": "2020-08-17T21:13:15.030261Z",
     "start_time": "2020-08-17T21:13:14.988807Z"
    }
   },
   "outputs": [],
   "source": [
    "# AVISO\n",
    "\n",
    "avisoAn=xr.open_dataset('data/aviso/aviso_annual.nc')\n",
    "aviso2=xr.open_dataset('data/aviso/aviso_2018_2019.nc')\n",
    "\n",
    "#avisoAn=avisoAn.sel(latitude=-60.125,longitude=360.125)\n",
    "adt=aviso2.sel(latitude=slice(-65,-55),longitude=slice(-5,5))"
   ]
  },
  {
   "cell_type": "code",
   "execution_count": null,
   "metadata": {
    "ExecuteTime": {
     "end_time": "2020-08-17T18:57:51.758120Z",
     "start_time": "2020-08-17T18:57:50.048836Z"
    }
   },
   "outputs": [],
   "source": [
    "# SMOS satellite Sea Surface Salinity\n",
    "smos = xr.open_mfdataset('data/smos/SMOS*.nc')"
   ]
  },
  {
   "cell_type": "markdown",
   "metadata": {},
   "source": []
  },
  {
   "cell_type": "markdown",
   "metadata": {},
   "source": [
    "## Regional Setting"
   ]
  },
  {
   "cell_type": "code",
   "execution_count": null,
   "metadata": {
    "ExecuteTime": {
     "end_time": "2020-08-17T18:59:07.097852Z",
     "start_time": "2020-08-17T18:58:56.006062Z"
    }
   },
   "outputs": [],
   "source": [
    "### SMOS Figure\n",
    "\n",
    "from obspy.imaging.cm import viridis_white\n",
    "import seaborn as sns\n",
    "import cartopy\n",
    "import cartopy.crs as ccrs\n",
    "\n",
    "import matplotlib\n",
    "import matplotlib.patches as mpatches\n",
    "from cartopy.util import add_cyclic_point\n",
    "import matplotlib.ticker as mticker\n",
    "from cartopy.mpl.gridliner import LONGITUDE_FORMATTER, LATITUDE_FORMATTER\n",
    "import shapefile   \n",
    "from mpl_toolkits.axes_grid1.inset_locator import inset_axes ,InsetPosition,mark_inset\n",
    "\n",
    "import matplotlib.path as mpath\n",
    "import cmocean.cm as cmo\n",
    "\n",
    "sns.set(font_scale=2)\n",
    "\n",
    "# Load sea ice extent poplygons\n",
    "\n",
    "fname1 = r'data/seaice/seaice_extent/extent_S_201809_polyline_v3.0.'\n",
    "fname2 = r'data/seaice/seaice_extent/extent_S_201902_polyline_v3.0.'\n",
    "\n",
    "projection =ccrs.SouthPolarStereo(central_longitude=0) # set projection\n",
    "\n",
    "fig, ax = plt.subplots(1, figsize=(15,15),\n",
    "                       subplot_kw={'projection': projection})\n",
    "\n",
    "# SMOS SSS data\n",
    "cs=smos.sel(time='2018-12-16',lat=slice(-83.517136,-40.131504)).SSS.plot.pcolormesh(ax=ax,transform=ccrs.PlateCarree(),vmin=33.4,vmax=34.6,cmap=viridis_white,add_colorbar=False)\n",
    "cax = fig.add_axes([0.45, 0.05, 0.4, 0.05])\n",
    "cbar=plt.colorbar(cs,cax=cax,orientation='horizontal',format='%.1f',shrink=0.5)\n",
    "cbar.set_label('SMOS SSS (g kg$^{-1}$)')\n",
    "\n",
    "\n",
    "#Ice\n",
    "cf=ax.pcolormesh(X,Y,sic_new[348,:,:], transform=ccrs.PlateCarree(),cmap='Greys')\n",
    "cax = fig.add_axes([0.01, 0.05, 0.4, 0.05])\n",
    "cbar2=plt.colorbar(cf,cax=cax,orientation='horizontal',format='%.0f',shrink=0.5)\n",
    "cbar2.set_label('Sea Ice Concentration')\n",
    "\n",
    "#Sea Ice extent \n",
    "# Max Extent 2018\n",
    "sf = shapefile.Reader(fname1)\n",
    "for shape in sf.shapeRecords():\n",
    "    for i in range(len(shape.shape.parts)):\n",
    "        i_start = shape.shape.parts[i]\n",
    "        if i==len(shape.shape.parts)-1:\n",
    "            i_end = len(shape.shape.points)\n",
    "        else:\n",
    "            i_end = shape.shape.parts[i+1]\n",
    "        listx = [i[0] for i in shape.shape.points[i_start:i_end]]\n",
    "        listy = [i[1] for i in shape.shape.points[i_start:i_end]]\n",
    "        ax.plot(listx,listy,transform=ccrs.SouthPolarStereo(),c='orange', linestyle='--',linewidth=4,label='Max Sea Ice Extent')\n",
    "\n",
    "# Min Extent 2019\n",
    "sf = shapefile.Reader(fname2)\n",
    "for shape in sf.shapeRecords():\n",
    "    for i in range(len(shape.shape.parts)):\n",
    "        i_start = shape.shape.parts[i]\n",
    "        if i==len(shape.shape.parts)-1:\n",
    "            i_end = len(shape.shape.points)\n",
    "        else:\n",
    "            i_end = shape.shape.parts[i+1]\n",
    "        listx = [i[0] for i in shape.shape.points[i_start:i_end]]\n",
    "        listy = [i[1] for i in shape.shape.points[i_start:i_end]]\n",
    "        ax.plot(listx,listy,transform=ccrs.SouthPolarStereo(),c='orange',linestyle='-',linewidth=4,label='Min Sea Ice Extent')\n",
    "\n",
    "\n",
    "# Study site\n",
    "ax.add_patch(mpatches.Rectangle(xy=[-5, -64], width=10, height=10,\n",
    "                                    facecolor='None',edgecolor='tab:red',linewidth=8,\n",
    "                                    alpha=1,\n",
    "                                    transform=ccrs.PlateCarree()))\n",
    "\n",
    "ax.scatter(0,-60,c='red',s=60,marker='D', transform=ccrs.PlateCarree())\n",
    "\n",
    "\n",
    "# Some edits to the plot\n",
    "ax.add_feature(cartopy.feature.LAND, zorder=1, edgecolor='black', facecolor='Grey')\n",
    "\n",
    "theta = np.linspace(0, 2*np.pi, 100)   # Make plot a circle\n",
    "center, radius = [0.5, 0.5], 0.5\n",
    "verts = np.vstack([np.sin(theta), np.cos(theta)]).T\n",
    "circle = mpath.Path(verts * radius + center)\n",
    "\n",
    "ax.set_boundary(circle, transform=ax.transAxes)\n",
    "ax.outline_patch.set_visible(False)\n",
    "\n",
    "#plt.savefig('figures/map2018_smos_v6.png',bbox_inches='tight',transparent=True,dpi=100)"
   ]
  },
  {
   "cell_type": "code",
   "execution_count": null,
   "metadata": {
    "ExecuteTime": {
     "end_time": "2020-07-01T13:41:29.574080Z",
     "start_time": "2020-07-01T13:40:41.569291Z"
    }
   },
   "outputs": [],
   "source": [
    "## Figure 1b - Chl\n",
    "### Chlorophyll\n",
    "\n",
    "import matplotlib\n",
    "import cartopy.crs as ccrs\n",
    "from cartopy.mpl.gridliner import LONGITUDE_FORMATTER, LATITUDE_FORMATTER\n",
    "import matplotlib.ticker as mticker\n",
    "from matplotlib import ticker, cm\n",
    "from matplotlib.colors import LogNorm\n",
    "\n",
    "from matplotlib import rc\n",
    "rc('font',**{'family':'sans-serif','sans-serif':['Helvetica'],'size':22})\n",
    "params = {'mathtext.default': 'regular' }          \n",
    "plt.rcParams.update(params)\n",
    "\n",
    "\n",
    "projection =ccrs.PlateCarree()#\n",
    "data_crs=ccrs.PlateCarree()\n",
    "\n",
    "fig, ax = plt.subplots(1, 1, figsize=(15,15),\n",
    "                       subplot_kw={'projection': projection})\n",
    "\n",
    "ax.set_extent([-4, 2, -62, -56])\n",
    "\n",
    "# Chl data\n",
    "chlnorm=chl.CHL_OC4ME\n",
    "z = np.ma.masked_where(chlnorm <= 0, chlnorm)\n",
    "cs=ax.pcolormesh(chl.longitude,chl.latitude,z,vmin=0, vmax=1,cmap=cmo.delta,transform=data_crs)\n",
    "\n",
    "cax,kw = matplotlib.colorbar.make_axes(ax,location='top',pad=0.01,shrink=0.7)\n",
    "out=fig.colorbar(cs,cax=cax,**kw)\n",
    "label=out.set_label('Chl (mg m$^{-3}$)',size=22,verticalalignment='bottom')\n",
    "\n",
    "# Seaglider location\n",
    "ax.scatter(lon[522:644],lat[522:644],facecolor='tab:red',s=12,transform=data_crs)\n",
    "\n",
    "# Location of the Southern Boundary of the ACC\n",
    "ax.contour(adt.longitude,adt.latitude,adt.adt[38,:,:], levels=[-1.244],colors='magenta',linestyles='--',transform=data_crs,linewidths=4)\n",
    "\n",
    "# Plot cleaning\n",
    "gl = ax.gridlines(crs=ccrs.PlateCarree(), draw_labels=True,\n",
    "                  linewidth=2, color='gray', alpha=0, linestyle='--')\n",
    "gl.xlabels_top = False\n",
    "gl.ylabels_right = False\n",
    "gl.xlocator = mticker.FixedLocator([-4, -2, 0, 2,4])\n",
    "gl.ylocator = mticker.FixedLocator([-62, -60, -58, -56,-54])\n",
    "gl.xformatter = LONGITUDE_FORMATTER\n",
    "gl.yformatter = LATITUDE_FORMATTER\n",
    "gl.xlabel_style = {'size': 28, 'color': 'k'}\n",
    "gl.ylabel_style = {'size': 28, 'color': 'k'}\n",
    "\n",
    "#plt.savefig('figures/chl_summer_2018_v3.png',transparent=True,dpi=100,bbox_inches='tight')\n"
   ]
  },
  {
   "cell_type": "code",
   "execution_count": null,
   "metadata": {
    "ExecuteTime": {
     "end_time": "2020-05-10T12:53:04.417443Z",
     "start_time": "2020-05-10T12:53:04.412466Z"
    }
   },
   "outputs": [],
   "source": [
    "# Seasonality\n",
    "\n",
    "import seaborn as sns\n",
    "fig,ax=plt.subplots(1,1,figsize=[26,8],sharex=True)\n",
    "sns.set(font_scale=3)\n",
    "\n",
    "\n",
    "sns.set_style('white')\n",
    "#sns.set_style(\"ticks\", {\"xtick.major.size\": 20, \"ytick.major.size\": 20})\n",
    "sns.set(font_scale=3)\n",
    "sns.set_style(\"ticks\", {\"xtick.major.size\": 20, \"ytick.major.size\": 20})\n",
    "\n",
    "\n",
    "#heat flux\n",
    "ax.plot(era5_annual.time,pd.Series(Qnet).rolling(24).mean(),c='tab:red',linewidth=3,alpha=0.8)\n",
    "ax.set_ylabel('Heat Flux (W/m$^2$)',c='tab:red')\n",
    "ax.tick_params(axis='y', colors='tab:red')\n",
    "\n",
    "#seaice\n",
    "ax3=ax.twinx()\n",
    "ax3.plot(sic_date,np.nanmean(np.nanmean(seaice[:,ind[0],ind[1]],axis=1),axis=1),c='teal',linewidth=3,alpha=0.8)\n",
    "ax3.set_ylabel('Sea Ice Concentration',c='teal')\n",
    "\n",
    "ax3.tick_params(axis='y', colors='teal')\n",
    "\n",
    "ax3.set_xlim(np.array(avisoAn.time[30]),np.array(avisoAn.time[-1]))\n",
    "\n",
    "\n",
    "ax3.axvline(np.array(avisoAn.time[258]),c='Grey',linestyle='--',alpha=0.7) # Heat flux positive\n",
    "ax3.axvline(np.array(avisoAn.time[359]),c='Grey',linestyle='--',alpha=0.7) # Heat flux negative\n",
    "\n",
    "\n",
    "# Mark start and end of deployment\n",
    "ax3.annotate('Deploy Glider', xy=(np.array(avisoAn.time[258]),20),  xycoords='data',\n",
    "            xytext=(np.array(avisoAn.time[265]),40),fontsize=27,\n",
    "            arrowprops=dict(arrowstyle=\"fancy\",\n",
    "                            fc=\"0.1\", ec=\"none\",\n",
    "                            connectionstyle=\"angle3,angleA=0,angleB=-90\"))\n",
    "\n",
    "ax3.annotate('Retrieve Glider', xy=(np.array(avisoAn.time[359]),10),  xycoords='data',\n",
    "            xytext=(np.array(avisoAn.time[320]),30),fontsize=27,\n",
    "            arrowprops=dict(arrowstyle=\"fancy\",\n",
    "                            fc=\"0.1\", ec=\"none\",\n",
    "                            connectionstyle=\"angle3,angleA=0,angleB=-90\"))\n",
    "\n",
    "# Plot formatting\n",
    "months = mdates.MonthLocator(interval=2, tz=None)\n",
    "ax.xaxis.set_major_locator(months)\n",
    "h_fmt= mdates.DateFormatter('%b %Y')\n",
    "ax.xaxis.set_major_formatter(h_fmt)\n",
    "\n",
    "#plt.savefig('figures/sg643_fig1_seasonality.png',transparent=True,dpi=75,bbox_inches='tight')\n"
   ]
  },
  {
   "cell_type": "code",
   "execution_count": null,
   "metadata": {},
   "outputs": [],
   "source": []
  },
  {
   "cell_type": "markdown",
   "metadata": {
    "ExecuteTime": {
     "end_time": "2020-08-17T09:14:05.184404Z",
     "start_time": "2020-08-17T09:14:05.182077Z"
    }
   },
   "source": [
    "## Vertical and Horizontal Buoyancy"
   ]
  },
  {
   "cell_type": "code",
   "execution_count": null,
   "metadata": {
    "ExecuteTime": {
     "end_time": "2020-08-17T13:35:30.593405Z",
     "start_time": "2020-08-17T13:35:30.587413Z"
    }
   },
   "outputs": [],
   "source": [
    "## Put this somewhere\n",
    "\n",
    "# Distance of glider sample site from Southern Boundary\n",
    "import gsw as gsw\n",
    "gsw.distance([0,0],[-60,-56])/1000"
   ]
  },
  {
   "cell_type": "code",
   "execution_count": null,
   "metadata": {
    "ExecuteTime": {
     "end_time": "2020-08-17T13:35:31.295300Z",
     "start_time": "2020-08-17T13:35:31.049986Z"
    }
   },
   "outputs": [],
   "source": [
    "lat_point=-60\n",
    "f = sms_fluxes.coriolis_acc(np.nanmean(lat_point)) # Coriolis Acceleration\n",
    "\n",
    "alpha,beta= sms_fluxes.alphabeta(SA,CT,depth) #Thermal Expansion Coeffient and Saline Contraction Coefficient\n",
    "\n",
    "mld = pd.Series(sms_fluxes.calc_mld(np.array(rho),np.array(depth),ref_depth=10))  #Mixed Layer Depth"
   ]
  },
  {
   "cell_type": "markdown",
   "metadata": {},
   "source": [
    "Buoyancy (kindof the inverse of density) is defined as\n",
    "\n",
    "$$\n",
    "b _x = g(1-\\rho/\\rho_0)\n",
    "$$\n",
    "\n"
   ]
  },
  {
   "cell_type": "code",
   "execution_count": null,
   "metadata": {
    "ExecuteTime": {
     "end_time": "2020-08-17T13:37:32.946289Z",
     "start_time": "2020-08-17T13:37:32.625389Z"
    }
   },
   "outputs": [],
   "source": [
    "# Buoyancy including salinity and temperature contributions\n",
    "\n",
    "g=9.8\n",
    "by=(9.8*(1-(rho[:]/1027)))\n",
    "b=g*alpha[:,:-1]*np.diff(CT,axis=1)-g*beta[:,:-1]*np.diff(SA,axis=1)\n",
    "bT=g*alpha[:,:-1]*CT.diff(dim='distance')/1000   # Temperature contribution\n",
    "bS=-g*beta[:,:-1]*SA.diff(dim='distance')/1000    # Salinity contribution\n",
    "bgrad=np.diff(by)/1000\n",
    "\n",
    "# average lateral buoyancy gradient in the mixed layer (at least 15m above the ML)\n",
    "bxml=np.ndarray(len(rho[1,:-1]))\n",
    "for i in range(len(rho[1,:-1])):\n",
    "    bxml[i]=(np.nanmean(bgrad[:np.int8(mld[i])-15,i],0))\n",
    "    \n",
    "bxml=pd.Series(bxml).interpolate()\n",
    "\n",
    "# point lateral buoyancy gradient in the middle of the ML\n",
    "bxmd=np.ndarray(len(rho[1,:-1]))\n",
    "for i in range(len(rho[1,:-1])):\n",
    "    bxmd[i]=bgrad[np.int8(mld[i]/2),i]\n",
    "    \n",
    "bxmd=pd.Series(bxmd).interpolate()"
   ]
  },
  {
   "cell_type": "code",
   "execution_count": null,
   "metadata": {
    "ExecuteTime": {
     "end_time": "2020-08-17T13:35:33.687665Z",
     "start_time": "2020-08-17T13:35:33.399740Z"
    }
   },
   "outputs": [],
   "source": [
    "# Difference between ML buoyancy gradient choices\n",
    "\n",
    "plt.figure(figsize=[15,4])\n",
    "plt.plot(np.abs(bgrad[15,:]),label='b15')\n",
    "plt.plot(np.abs(bxmd[:]),alpha=0.6,label='b_middle')\n",
    "plt.plot(np.abs(bxml),alpha=0.6,label='b_avg')\n",
    "plt.legend()\n",
    "#plt.savefig('figures/bx_comparison.png',bbox_inches='tight',dpi=75)\n"
   ]
  },
  {
   "cell_type": "markdown",
   "metadata": {},
   "source": [
    "Vertical stratification is defined by the Brunt Vaisala frequency\n",
    "\n",
    "$$\n",
    "N^2 = \\delta b / \\delta z \n",
    "$$\n",
    "\n",
    "It can be separated into temperature and salinity components\n",
    "\n",
    "$$\n",
    "N^2_T = -g\\alpha \\frac {\\delta T} {\\delta z} \n",
    "$$\n",
    "\n",
    "$$\n",
    "N^2_S = N^2 - N^2_T\n",
    "$$"
   ]
  },
  {
   "cell_type": "code",
   "execution_count": null,
   "metadata": {
    "ExecuteTime": {
     "end_time": "2020-08-17T13:35:37.890323Z",
     "start_time": "2020-08-17T13:35:37.283401Z"
    }
   },
   "outputs": [],
   "source": [
    "# Vertical Stratification\n",
    "\n",
    "import gsw\n",
    "import pandas as pd\n",
    "_,y=np.meshgrid(dist,depth)\n",
    "\n",
    "n2 = np.diff(by*-1,axis=0)\n",
    "n2_t=(-g*alpha[:-1,:]*np.diff(CT,axis=0))   # Temperature component\n",
    "n2_s = n2-n2_t # Salt component\n",
    "\n",
    "# ML N2\n",
    "# Total\n",
    "n2ml=np.ndarray(len(rho[1,:-1]))\n",
    "for i in range(len(rho[1,:-1])):\n",
    "    n2ml[i]=(np.nanmean(n2[(np.int8(mld[i])-5):np.int8(mld[i])+5,i],0))\n",
    "    \n",
    "n2ml=pd.Series(n2ml).interpolate()\n",
    "\n",
    "# Temperature component\n",
    "n2mlT=np.ndarray(len(rho[1,:-1]))\n",
    "for i in range(len(rho[1,:-1])):\n",
    "    n2mlT[i]=(np.nanmean(n2_t[np.int8(mld[i])-5:np.int8(mld[i])+5,i],0))\n",
    "    \n",
    "n2mlT=pd.Series(n2mlT).interpolate()\n",
    "\n",
    "# Salinity component\n",
    "n2mlS=np.ndarray(len(rho[1,:-1]))\n",
    "for i in range(len(rho[1,:-1])):\n",
    "    n2mlS[i]=(np.nanmean(n2_s[np.int8(mld[i])-5:np.int8(mld[i])+5,i],0))\n",
    "    \n",
    "n2mlS=pd.Series(n2mlS).interpolate()\n"
   ]
  },
  {
   "cell_type": "code",
   "execution_count": null,
   "metadata": {
    "ExecuteTime": {
     "end_time": "2020-08-17T13:35:44.269485Z",
     "start_time": "2020-08-17T13:35:39.019105Z"
    }
   },
   "outputs": [],
   "source": [
    "import seaborn as sns\n",
    "sns.set(font_scale=2)\n",
    "sns.set_style(\"whitegrid\")\n",
    "sns.set_style(\"ticks\", {\"xtick.major.size\": 8, \"ytick.major.size\": 8})\n",
    "\n",
    "from matplotlib import pyplot, lines\n",
    "from matplotlib import ticker\n",
    "formatter = ticker.ScalarFormatter(useMathText=True)\n",
    "formatter.set_scientific(True) \n",
    "formatter.set_powerlimits((-1,1)) \n",
    "\n",
    "fig,ax=plt.subplots(5,1,figsize=[18,16],sharex=True,constrained_layout=True)\n",
    "\n",
    "ax[0].set_title('Absolute Salinity')\n",
    "x,y=np.meshgrid(dist,depth)\n",
    "cs=ax[0].pcolormesh(x,y,SA,cmap=cmo.haline,vmin=33.9,vmax=34.7)\n",
    "ax[0].contour(x[100:,:],y[100:,:], CT[100:,:],levels=[0],colors='magenta',linewidths=2,alpha=0.7) # Bottom of WW layer defined as CT=0\n",
    "\n",
    "cbar=plt.colorbar(cs,ax=ax[0],aspect=10)\n",
    "cbar.set_label('(g kg$^{-1}$)')\n",
    "levels=np.arange(1027,1028,0.1)\n",
    "ax[0].contour(x,y, rho,levels=levels,colors='k',linewidths=0.8,alpha=0.7)\n",
    "ax[0].plot(dist[:],pd.Series(mld).rolling(3).median(),c='w',linewidth=2)\n",
    "\n",
    "ax[0].set_ylim(150,0)\n",
    "ax[0].set_ylabel('Depth (m)')\n",
    "\n",
    "ax[1].set_title('Buoyancy')\n",
    "x,y=np.meshgrid(dist,depth)\n",
    "cs=ax[1].pcolormesh(x,y,by,cmap=cmo.balance,vmin=-0.007,vmax=-0.001)\n",
    "cbar=plt.colorbar(cs,ax=ax[1],aspect=10,pad=0.001)\n",
    "cbar.formatter.set_powerlimits((0, 0))\n",
    "cbar.formatter._useMathText = True\n",
    "\n",
    "\n",
    "cbar.update_ticks()\n",
    "cbar.set_label('(m s$^{-2})$')\n",
    "levels=np.arange(1027,1028,0.1)\n",
    "ax[1].contour(x,y, rho,levels=levels,colors='k',linewidths=0.8,alpha=0.7)\n",
    "ax[1].plot(dist[:],pd.Series(mld).rolling(3).median(),c='w',linewidth=2)\n",
    "ax[1].contour(x[100:,:],y[100:,:], CT[100:,:],levels=[0],colors='magenta',linewidths=2,alpha=0.7)\n",
    "\n",
    "ax[1].set_ylabel('Depth (m)')\n",
    "\n",
    "\n",
    "ax[1].set_ylim(150,0)\n",
    "\n",
    "ax[2].set_title('10m buoyancy')\n",
    "\n",
    "ax[2].plot(dist[:-1],np.array(by[10,0])+np.nancumsum(bgrad[10,:])*1000,c='k',label=u'$b$')#'\\\\\\rho_0$')\n",
    "ax[2].plot(dist[:-1],np.array(by[10,0])+np.nancumsum(bT[10,:])*1000,c='tab:orange',label=u'$b_T$')\n",
    "ax[2].plot(dist[:-1],np.array(by[10,0])+np.nancumsum(bS[10,:])*1000,c='tab:blue',label=u'$b_S$')\n",
    "\n",
    "\n",
    "ax[2].legend(loc='best',framealpha=0.5,fontsize=14)\n",
    "formatter = ticker.ScalarFormatter(useMathText=True)\n",
    "\n",
    "ax[2].ticklabel_format(axis='y', style='sci', scilimits=(-3,3))\n",
    "ax[2].yaxis.major.formatter._useMathText = True\n",
    "\n",
    "ax[2].set_ylabel('b (m $s^{-2})$')\n",
    "\n",
    "ax[3].set_title('Mixed Layer Lateral Buoyancy Gradient')\n",
    "ax[3].axhline(0.5e-7, c='Gray',linewidth=2)\n",
    "ax[3].plot(dist[:-1],np.abs(bxml),c='k')\n",
    "\n",
    "ax[3].set_ylabel('$b_x (s^{-2})$')\n",
    "ax[3].ticklabel_format(axis='y', style='sci', scilimits=(-7,-7))\n",
    "ax[3].yaxis.major.formatter._useMathText = True\n",
    "\n",
    "ax[4].set_title('Brunt Vaisala Frequency')\n",
    "ax[4].plot(dist[:-1],pd.Series(n2ml).rolling(6).median(),c='k',label='$\\overline{N}{^2}(T,S)_{ML}$')\n",
    "ax[4].plot(dist[:-1],pd.Series(n2mlT).rolling(6).median(),c='tab:orange',label='$\\overline{N}{^2}(S)_{ML}$')\n",
    "ax[4].plot(dist[:-1],pd.Series(n2mlS).rolling(6).median(),c='tab:blue',label='$\\overline{N}{^2}(T)_{ML}$')\n",
    "\n",
    "ax[4].axhline(0,c='Grey',alpha=0.5,linestyle='--')\n",
    "ax[4].legend(loc='best',framealpha=0.5,fontsize=14)\n",
    "ax[4].set_ylim(-1e-5,4e-4)\n",
    "ax[4].set_ylabel('$N^2$ $(s^{-1})$')\n",
    "ax[4].set_xticks([0,250000, 500000,750000, 1000000,1250000,1500000,1750000,2000000])  # this is a bit of a hack \n",
    "ax[4].set_xticklabels(['15 Dec','26 Dec','06 Jan','17 Jan','28 Jan',\n",
    "                       '10 Feb','23 Feb','08 Feb','22 Feb'])\n",
    "\n",
    "ax[4].set_xlabel('Time')\n",
    "\n",
    "ax[4].ticklabel_format(axis='y',style='sci',scilimits=(-1,1))\n",
    "ax[4].yaxis.major.formatter._useMathText = True\n",
    "ax[4].set_xlim(dist[0],dist[-1])\n",
    "\n",
    "\n",
    "# Add lines to show mesoscale transects\n",
    "x,y = np.array([[0, dist[360]], [-5, -5]])\n",
    "line = lines.Line2D(x, y, lw=5., color='r', alpha=0.9)\n",
    "ax[0].add_line(line)\n",
    "line.set_clip_on(False)\n",
    "\n",
    "x,y = np.array([[dist[1280], dist[1550]], [-5, -5]])\n",
    "line = lines.Line2D(x, y, lw=5., color='r', alpha=0.9)\n",
    "ax[0].add_line(line)\n",
    "line.set_clip_on(False)\n",
    "\n",
    "ax[0].text(dist[120],-10,'N-S transect',fontsize=16)\n",
    "ax[0].text(dist[1320],-10,'N-S transect',fontsize=16)\n",
    "\n",
    "\n",
    "#plt.savefig('figures/buoyancy_summer_2018_v5.png',transparent=True,dpi=75,bbox_inches='tight')\n",
    "\n"
   ]
  },
  {
   "cell_type": "markdown",
   "metadata": {},
   "source": [
    "## Turner Angle Analysis\n",
    "\n",
    "The verticle turner angle defined as:\n",
    "\n",
    "$$\n",
    "Tu = \\arctan(R_p)\n",
    "$$\n",
    "\n",
    "where \n",
    "$$\n",
    "Rp = \\alpha \\frac {\\delta T} {\\delta z} (\\beta \\frac {\\delta S} {\\delta z})^{-1}\n",
    "$$\n",
    "\n",
    "\n",
    "Similarly, the horizontal turner angle is defined by replacing the vertical gradient with the horizontal:\n",
    "\n",
    "$$\n",
    "Rp_{horizontal} = \\alpha \\frac {\\delta T} {\\delta x} (\\beta \\frac {\\delta S} {\\delta x})^{-1}\n",
    "$$\n",
    "\n",
    "\n",
    "\n",
    "\n",
    "\n"
   ]
  },
  {
   "cell_type": "code",
   "execution_count": null,
   "metadata": {
    "ExecuteTime": {
     "end_time": "2020-08-17T13:36:01.715031Z",
     "start_time": "2020-08-17T13:36:01.631594Z"
    }
   },
   "outputs": [],
   "source": [
    "# vertical\n",
    "Rpx=(alpha[:-1,:]*(np.diff(CT,axis=0))/(beta[:-1,:]*(np.diff(SA,axis=0))))\n",
    "Tux=(np.arctan(Rpx))\n",
    "\n",
    "# Lateral\n",
    "RpxL=(alpha[:,:-1]*(np.diff(CT,axis=1)/1000)/(beta[:,:-1]*(np.diff(SA,axis=1)/1000)))\n",
    "TuxL=pd.Series((np.arctan(RpxL[15,:]))).interpolate()"
   ]
  },
  {
   "cell_type": "code",
   "execution_count": null,
   "metadata": {
    "ExecuteTime": {
     "end_time": "2020-08-17T13:36:17.578097Z",
     "start_time": "2020-08-17T13:36:02.083268Z"
    }
   },
   "outputs": [],
   "source": [
    "import seaborn as sns\n",
    "sns.set(font_scale=1.5)\n",
    "\n",
    "sns.set_style('white')\n",
    "sns.set_color_codes()\n",
    "\n",
    "\n",
    "bins = np.linspace(-np.pi/2,np.pi/2, 20)\n",
    "\n",
    "fig,ax=plt.subplots(1,2,figsize=[15,7])\n",
    "ax[0].set_title('Vertical Tu')\n",
    "\n",
    "\n",
    "summer_subset=pd.Series(np.nanmean(Tux[10:200,10:490],axis=1)).interpolate()\n",
    "sample = np.random.choice(summer_subset, size=300) \n",
    "\n",
    "\n",
    "lsummer_subset=pd.Series(np.nanmean(Tux[10:200,1467:1857],axis=1)).interpolate()\n",
    "sample2 = np.random.choice(lsummer_subset, size=300) \n",
    "\n",
    "\n",
    "# Added confidence interval using bootstrapping\n",
    "for _ in range(500):  #so B=10000\n",
    "    sample_n = np.random.choice(summer_subset, size=300)\n",
    "    sample_n2 = np.random.choice(lsummer_subset, size=300)\n",
    "\n",
    "\n",
    "    sns.distplot(pd.Series((sample_n)), hist=False, bins=bins,rug=False,kde_kws={\"color\": \"lightblue\", \"lw\": 1,'alpha':0.2},ax=ax[0])\n",
    "    sns.distplot(pd.Series((sample_n2)), hist=False,bins=bins, rug=False,kde_kws={\"color\": \"pink\", \"lw\": 1,'alpha':0.2},ax=ax[0])\n",
    "\n",
    "sns.distplot(pd.Series(np.nanmean(Tux[10:200,:],axis=1)).interpolate(), hist=False,bins=bins ,rug=False,label='Total',kde_kws={\"color\": \"k\", \"lw\": 3},ax=ax[0])\n",
    "\n",
    "sns.distplot(pd.Series(np.nanmean(Tux[10:200,10:490],axis=1)).interpolate(), hist=False, bins=bins,rug=False,label='Early Summer',kde_kws={\"color\": \"b\", \"lw\": 3},ax=ax[0])\n",
    "sns.distplot(pd.Series(np.nanmean(Tux[10:200,1467:1857],axis=1)).interpolate(), hist=False,bins=bins, rug=False,label='Late Summer',kde_kws={\"color\": \"r\", \"lw\": 3},ax=ax[0])\n",
    "ax[0].axvline(x=-np.pi/4,c='Gray',linestyle='--')\n",
    "ax[0].axvline(x=np.pi/4,c='Gray',linestyle='--')\n",
    "ax[0].axvline(x=0,c='Gray',linestyle='--')\n",
    "\n",
    "ax[0].set_xticks([-np.pi/2, -np.pi/4, 0, np.pi/4,np.pi/2])\n",
    "ax[0].set_xticklabels([r'- $\\frac{\\pi}{2}$',r'- $\\frac{\\pi}{4}$','$0$', r'$\\frac{\\pi}{4}$', r'$\\frac{\\pi}{2}$'])\n",
    "ax[0].set_ylabel('Frequency')\n",
    "ax[0].set_xlabel('Turner Angle')\n",
    "ax[0].set_xlim(-np.pi/2,np.pi/2)\n",
    "\n",
    "ax[1].set_title('Horizontal Tu')\n",
    "\n",
    "bins = np.linspace(-np.pi/2,np.pi/2,20)\n",
    "\n",
    "\n",
    "summer_subset=TuxL[10:390]\n",
    "sample = np.random.choice(summer_subset, size=300) \n",
    "\n",
    "lsummer_subset=TuxL[1467:1857]\n",
    "sample2 = np.random.choice(lsummer_subset, size=300) \n",
    "\n",
    "\n",
    "for _ in range(500):  #so B=10000\n",
    "    sample_n = np.random.choice(summer_subset, size=300)\n",
    "    sample_n2 = np.random.choice(lsummer_subset, size=300)\n",
    "\n",
    "\n",
    "    sns.distplot(pd.Series((sample_n)), hist=False, bins=bins,rug=False,kde_kws={\"color\": \"lightblue\", \"lw\": 1,'alpha':0.2},ax=ax[1])\n",
    "    sns.distplot(pd.Series((sample_n2)), hist=False,bins=bins, rug=False,kde_kws={\"color\": \"pink\", \"lw\": 1,'alpha':0.2},ax=ax[1])\n",
    "\n",
    "sns.distplot(pd.Series((summer_subset)), hist=False, bins=bins,rug=False,label='Early Summer',kde_kws={\"color\": \"b\", \"lw\": 3},ax=ax[1])\n",
    "sns.distplot(pd.Series((lsummer_subset)), hist=False,bins=bins, rug=False,label='Late Summer',kde_kws={\"color\": \"r\", \"lw\": 3},ax=ax[1])\n",
    "\n",
    "\n",
    "sns.distplot(pd.Series((TuxL[:])), hist=False,bins=bins, rug=False,label='Total',kde_kws={\"color\": \"k\", \"lw\": 3},ax=ax[1])\n",
    "\n",
    "\n",
    "ax[1].axvline(x=-np.pi/4,c='Gray',linestyle='--')\n",
    "ax[1].axvline(x=np.pi/4,c='Gray',linestyle='--')\n",
    "ax[1].axvline(x=0,c='Gray',linestyle='--')\n",
    "ax[1].set_xticks([-np.pi/2, -np.pi/4, 0, np.pi/4,np.pi/2])            \n",
    "ax[1].set_xticklabels(\n",
    "           [r'- $\\frac{\\pi}{2}$',r'- $\\frac{\\pi}{4}$','$0$', r'$\\frac{\\pi}{4}$', r'$\\frac{\\pi}{2}$'])\n",
    "ax[1].set_xlabel('Turner Angle')\n",
    "ax[1].set_ylabel('Frequency')\n",
    "ax[1].set_xlim(-np.pi/2,np.pi/2)\n",
    "\n",
    "#plt.savefig('figures/Tu_summer_2018.png',transparent=True,dpi=75,bbox_inches='tight')"
   ]
  },
  {
   "cell_type": "markdown",
   "metadata": {},
   "source": [
    "## ABI Growth Rate Analysis\n"
   ]
  },
  {
   "cell_type": "markdown",
   "metadata": {},
   "source": [
    "Richardson number - gives idea of isopycnal slope steepness\n",
    "\n",
    "$$\n",
    "Ri = \\frac {N^2} {(\\delta u / \\delta z)^2} \\equiv \\frac {f^2 N^2} {b_x^2}\n",
    "$$\n",
    "\n",
    "The fastest lengthscale and  growth rate following Stone 1970; Fox-Kemper et al. 2008, is defined as:\n",
    "\n",
    "$$\n",
    "l_{max} = \\frac {2 \\pi U} {f} \\sqrt {\\frac {1+Ri} {5/2}}$$  where \n",
    "\n",
    "$$\n",
    "U \\equiv \\frac {|b_x|} f H\n",
    "$$\n",
    "\n",
    "\n",
    "$$\n",
    "\\tau_{max} = \\sqrt {\\frac {54} 5} \\frac {\\sqrt  {1+Ri}} {f}\n",
    "$$\n"
   ]
  },
  {
   "cell_type": "code",
   "execution_count": null,
   "metadata": {
    "ExecuteTime": {
     "end_time": "2020-07-06T14:00:33.005658Z",
     "start_time": "2020-07-06T14:00:32.983678Z"
    }
   },
   "outputs": [],
   "source": [
    "# Richardson number\n",
    "Ri = (1.26e-4**2*np.abs(n2[:,:-1]))/np.abs(bgrad[:-1,:])**2\n",
    "\n",
    "#Ri in the ML\n",
    "riml=np.ndarray(len(rho[1,:-1]))\n",
    "for i in range(len(rho[1,:-1])):\n",
    "    riml[i]=(np.nanmean(Ri[:np.int8(mld[i])-15,i],0))\n",
    "riml[1705:1780]=np.nan\n",
    "riml[-10:]=np.nan\n",
    "riml[650:700]=np.nan\n",
    "riml[1250:1500]=np.nan\n",
    "\n",
    "logRi=np.log(np.abs(riml))\n",
    "Ri_adj=logRi[logRi!=np.inf] #adjusted to exclude nans and infs\n"
   ]
  },
  {
   "cell_type": "code",
   "execution_count": null,
   "metadata": {
    "ExecuteTime": {
     "end_time": "2020-07-06T14:00:54.938952Z",
     "start_time": "2020-07-06T14:00:54.931027Z"
    }
   },
   "outputs": [],
   "source": [
    "# Length scale \n",
    "L1=(2*np.pi*mld[:-1]*np.abs(bxml)/f)/f*np.sqrt((1+np.abs(riml))/(5/2))\n",
    "L=(2*np.pi*40*(10e-7)/f)/f*np.sqrt((1+np.abs(1))/(5/2))\n",
    "\n",
    "# Wavelength with Ri=1\n",
    "Lfk=(2*np.pi*100*np.abs(2*f**2)/f)/f*np.sqrt((1+np.abs(1))/(5/2))\n",
    "print('Wavenumber:',Lfk/1000)\n",
    "\n",
    "# Growth rate\n",
    "Time= np.sqrt(54/5)*np.sqrt(1+abs(riml))/np.abs(f)\n",
    "Time=Time[Time!=np.inf]\n",
    "\n",
    "# Growth rate with Ri = 1\n",
    "Time2= np.sqrt(54/5)*np.sqrt(1+1)/np.abs(f)\n",
    "print('Growthrate:',Time2/3600)\n"
   ]
  },
  {
   "cell_type": "code",
   "execution_count": null,
   "metadata": {
    "ExecuteTime": {
     "end_time": "2020-07-06T14:30:55.019778Z",
     "start_time": "2020-07-06T14:30:55.016110Z"
    }
   },
   "outputs": [],
   "source": [
    "# Compare to BFK 2008\n",
    "#h ~ 100 m\n",
    "# bx ~ 2f^2\n",
    "2*(f**2)"
   ]
  },
  {
   "cell_type": "code",
   "execution_count": null,
   "metadata": {
    "ExecuteTime": {
     "end_time": "2020-07-06T14:01:18.973684Z",
     "start_time": "2020-07-06T14:01:17.263944Z"
    }
   },
   "outputs": [],
   "source": [
    "fig,ax=plt.subplots(1,5,figsize=[18,6],sharey=True)\n",
    "plt.subplots_adjust(wspace=0.1)\n",
    "import numpy\n",
    "import seaborn as sns\n",
    "\n",
    "sns.set_style('white')\n",
    "sns.set(font_scale=1.5)\n",
    "\n",
    "\n",
    "# Subplot 1 - MLD\n",
    "sns.distplot(mld[mld!=np.nan],bins=25,hist=True,norm_hist=False,rug=False,label='Total',kde=False,ax=ax[0])\n",
    "ax[0].set_xlabel('MLD (m)')\n",
    "ax[0].set_ylabel('Count')\n",
    "\n",
    "axin0 = ax[0].inset_axes(\n",
    "        [35, 550, 35, 250], transform=ax[0].transData)\n",
    "\n",
    "sns.distplot(mld[mld!=np.nan][10:490],bins=25,hist=False,norm_hist=False,rug=False,kde=True,ax=axin0,kde_kws={'color':'b'})\n",
    "sns.distplot(mld[mld!=np.nan][1450:1950],bins=25,hist=False,norm_hist=False,rug=False,kde=True,ax=axin0,kde_kws={'color':'r'})\n",
    "axin0.set_xticks([])\n",
    "axin0.set_yticks([])\n",
    "\n",
    "\n",
    "# Subplot 2 - Buoyancy Gradient\n",
    "sns.distplot(np.abs(bxml) ,bins=25,hist=True,norm_hist=False,rug=False,label='Total',kde=False,ax=ax[1])\n",
    "ax[1].set_xlabel('|b$_x$| ($s^{-2}$)')\n",
    "\n",
    "axin1 = ax[1].inset_axes(\n",
    "        [0.9e-7, 550, 1.4e-7, 250], transform=ax[1].transData)\n",
    "\n",
    "sns.distplot(np.abs(bxml)[10:490],bins=25,hist=False,norm_hist=False,rug=False,kde=True,ax=axin1,kde_kws={'color':'b'})\n",
    "sns.distplot(np.abs(bxml)[1450:1950],bins=25,hist=False,norm_hist=False,rug=False,kde=True,ax=axin1,kde_kws={'color':'r'})\n",
    "axin1.set_xticks([])\n",
    "axin1.set_yticks([])\n",
    "\n",
    "# Subplot 3 - Richardsn Number\n",
    "sns.distplot(Ri_adj, hist=True,bins=25,rug=False,label='Total',kde=False,ax=ax[2],norm_hist=False)\n",
    "ax[2].set_xlabel('Ri')\n",
    "ax[2].set_xticks([0,5,10,15])\n",
    "                \n",
    "ax[2].set_xticklabels(\n",
    "           [r'$10^{0}$',r'$10^5$','$10^{10}$', r'$10^{15}$'])\n",
    "\n",
    "\n",
    "axin2 = ax[2].inset_axes(\n",
    "        [5, 550, 12, 250], transform=ax[2].transData)\n",
    "\n",
    "\n",
    "sns.distplot(Ri_adj[10:490],bins=25,hist=False,norm_hist=False,rug=False,kde=True,ax=axin2,kde_kws={'color':'b'})\n",
    "sns.distplot(Ri_adj[1450:1950],bins=25,hist=False,norm_hist=False,rug=False,kde=True,ax=axin2,kde_kws={'color':'r'})\n",
    "axin2.set_xticks([])\n",
    "axin2.set_yticks([])\n",
    "\n",
    "\n",
    "# Subplot 4 - Wavelength\n",
    "sns.distplot(L1[L1<50000]/1000, hist=True,bins=25,norm_hist=False,rug=False,label='Total',kde=False,ax=ax[3])\n",
    "ax[3].set_xlabel('Wavelength (km)')\n",
    "\n",
    "\n",
    "axin3 = ax[3].inset_axes(\n",
    "        [20, 550, 28, 250], transform=ax[3].transData)\n",
    "\n",
    "sns.distplot((L1[L1<50000]/1000)[10:490],bins=25,hist=False,norm_hist=False,rug=False,kde=True,ax=axin3,kde_kws={'color':'b'})\n",
    "sns.distplot((L1[L1<50000]/1000)[1450:1950],bins=25,hist=False,norm_hist=False,rug=False,kde=True,ax=axin3,kde_kws={'color':'r'})\n",
    "axin3.set_xticks([])\n",
    "axin3.set_yticks([])\n",
    "\n",
    "#Subplot 5 - Inverse growthrate\n",
    "sns.distplot(np.log(numpy.ma.masked_invalid(Time)/86400), hist=True,bins=25,norm_hist=False,rug=False,label='Total',kde=False,ax=ax[4])\n",
    "ax[4].set_xticks([-2,0,2,4,6,8])\n",
    "                \n",
    "ax[4].set_xticklabels(\n",
    "           [r'$10^{-2}$',r'$10^0$','$10^2$', r'$10^4$', r'$10^6$', r'$10^8$'])\n",
    "ax[4].set_xlabel('Inverse growth rate (days)')\n",
    "\n",
    "\n",
    "axin4 = ax[4].inset_axes(\n",
    "        [2, 550, 6, 250], transform=ax[4].transData)\n",
    "\n",
    "sns.distplot(np.log(numpy.ma.masked_invalid(Time)/86400)[10:490],bins=25,hist=False,norm_hist=False,rug=False,kde=True,ax=axin4,kde_kws={'color':'b'})\n",
    "sns.distplot(np.log(numpy.ma.masked_invalid(Time)/86400)[1450:1950],bins=25,hist=False,norm_hist=False,rug=False,kde=True,ax=axin4,kde_kws={'color':'r'})\n",
    "axin4.set_xticks([])\n",
    "axin4.set_yticks([])\n",
    "\n",
    "#plt.savefig('figures/hist_summer_2018.png',transparent=True,dpi=75,bbox_inches='tight')\n"
   ]
  },
  {
   "cell_type": "markdown",
   "metadata": {},
   "source": [
    "## Atmospheric derived surface fluxes"
   ]
  },
  {
   "cell_type": "code",
   "execution_count": null,
   "metadata": {
    "ExecuteTime": {
     "end_time": "2020-08-17T13:38:02.035413Z",
     "start_time": "2020-08-17T13:38:02.027488Z"
    }
   },
   "outputs": [],
   "source": [
    "# Q is given in W/m2\n",
    "Qnet_interp=sms_fluxes.glider_compat(era5_annual.time,time,Qnet) # Interpolated to glider track\n"
   ]
  },
  {
   "cell_type": "markdown",
   "metadata": {},
   "source": [
    "To convert freshwater flux from m/s to an equivalent heat flux, first FWF is converted to a buoyancy:\n",
    "\n",
    "$$\n",
    "F_b = (E-P)  \\times \\beta \\times g \\times S\n",
    "$$\n",
    "\n",
    "and then converted to an equivalent heat flux\n",
    "\n",
    "$$\n",
    "Q_{FWF} = \\frac {F_b \\times \\rho_0 \\times C_p}  {\\alpha \\times g}\n",
    "$$\n"
   ]
  },
  {
   "cell_type": "code",
   "execution_count": null,
   "metadata": {},
   "outputs": [],
   "source": [
    "plt.plot(pd.Series(SA[15,:]).interpolate())"
   ]
  },
  {
   "cell_type": "code",
   "execution_count": null,
   "metadata": {
    "ExecuteTime": {
     "end_time": "2020-08-17T13:38:02.496979Z",
     "start_time": "2020-08-17T13:38:02.492559Z"
    }
   },
   "outputs": [],
   "source": [
    "#  FWF computation\n",
    "fwf_interp=sms_fluxes.glider_compat(erafw.time,time,fwfms) # Interpolated to glider track\n",
    "F_b=fwf_interp*beta[10,:]*g*pd.Series(SA[15,:]).interpolate()\n",
    "Qnet_F=(F_b*(1027*4000)/(alpha[10,:]*g))"
   ]
  },
  {
   "cell_type": "code",
   "execution_count": null,
   "metadata": {
    "ExecuteTime": {
     "end_time": "2020-08-17T13:38:02.949950Z",
     "start_time": "2020-08-17T13:38:02.946787Z"
    }
   },
   "outputs": [],
   "source": [
    "Qsurf = Qnet_interp+Qnet_F"
   ]
  },
  {
   "cell_type": "code",
   "execution_count": null,
   "metadata": {
    "ExecuteTime": {
     "end_time": "2020-08-17T13:38:03.811791Z",
     "start_time": "2020-08-17T13:38:03.408369Z"
    }
   },
   "outputs": [],
   "source": [
    "tau, tau_x, tau_y, wind_dir = sms_fluxes.calc_wind(era5w_subset.u10[:,0],era5w_subset.v10[:,0]) # Wind Stress\n",
    "tx_interp=pd.Series(sms_fluxes.glider_compat(era5w_subset.time,time,tau_x)).rolling(1).mean() # Interpolated to glider track\n",
    "ty_interp=pd.Series(sms_fluxes.glider_compat(era5w_subset.time,time,tau_y)).rolling(1).mean()\n",
    "wind_dir_interp=pd.Series(sms_fluxes.glider_compat(era5w_subset.time,time,wind_dir)).rolling(1).mean()"
   ]
  },
  {
   "cell_type": "code",
   "execution_count": null,
   "metadata": {
    "ExecuteTime": {
     "end_time": "2020-08-17T13:38:03.896935Z",
     "start_time": "2020-08-17T13:38:03.892376Z"
    }
   },
   "outputs": [],
   "source": [
    "print('mean wind stress:',np.nanmean(np.sqrt(tx_interp**2+ty_interp**2)))"
   ]
  },
  {
   "cell_type": "code",
   "execution_count": null,
   "metadata": {
    "ExecuteTime": {
     "end_time": "2020-08-17T12:52:15.571860Z",
     "start_time": "2020-08-17T12:52:14.567868Z"
    }
   },
   "outputs": [],
   "source": [
    "import seaborn as sns\n",
    "fig,ax=plt.subplots(3,1,figsize=[18,15],sharex=True)\n",
    "sns.set(font_scale=2)\n",
    "\n",
    "sns.set_style('white')\n",
    "sns.set_style(\"ticks\", {\"xtick.major.size\": 8, \"ytick.major.size\": 8})\n",
    "\n",
    "\n",
    "import matplotlib\n",
    "from mpl_toolkits.axes_grid1.inset_locator import inset_axes\n",
    "from matplotlib.projections import get_projection_class\n",
    "\n",
    "\n",
    "#heat flux\n",
    "ax[0].plot(era5_annual.time,era5_annual.msnswrf[:,2,4],label='Q$_{shortwave}$',alpha=0.8,linewidth=3)\n",
    "ax[0].plot(era5_annual.time,era5_annual.msnlwrf[:,2,4],label='Q$_{longwave}$',alpha=0.8,linewidth=3)\n",
    "ax[0].plot(era5_annual.time,era5_annual.mslhf[:,2,4],label='Q$_{latent}$',alpha=0.8,linewidth=3)\n",
    "ax[0].plot(era5_annual.time,era5_annual.msshf[:,2,4],label='Q$_{sensible}$',alpha=0.8,linewidth=3)\n",
    "ax[0].plot(era5_annual.time,pd.Series(era5_annual.mslhf[:,2,4]+era5_annual.msshf[:,2,4]+era5_annual.msnswrf[:,2,4]+era5_annual.msnlwrf[:,2,4]).rolling(24).mean(),c='k',linewidth=4,label='Q$_{net}$')\n",
    "ax[0].legend(loc='lower center',framealpha=0.6,ncol=6)\n",
    "ax[0].axhline(0,c='k',linestyle='--',alpha=0.5)\n",
    "ax[0].set_ylim(-500,900)\n",
    "ax[0].set_ylabel('Heat Flux (W m$^{-2}$)')\n",
    "\n",
    "# Freshwater Flux\n",
    "ax[1].plot(erafw.time,(erafw.mer+erafw.mtpr)/3600,c='k',linewidth=2)\n",
    "ax[1].axhline(0,c='k',linestyle='--',alpha=0.5)\n",
    "ax[1].ticklabel_format(axis='y',style='sci',scilimits=(-7,7))\n",
    "ax[1].yaxis.major.formatter._useMathText = True\n",
    "ax[1].set_ylabel('FWF (m s$^{-1}$)')\n",
    "\n",
    "# Winds\n",
    "ax[2].plot(time,np.sqrt(tx_interp**2+ty_interp**2),c='k',linewidth=2)\n",
    "ax[2].axhline(np.nanmean(np.sqrt(tx_interp**2+ty_interp**2)),c='k',linestyle='--',alpha=0.5)\n",
    "ax[2].set_ylim(0,1)\n",
    "ax[2].set_ylabel('Wind Stress (N m$^{2}$)')\n",
    "ax[2].set_xlim(time.iloc[0],time.iloc[-1])\n",
    "h_fmt= mdates.DateFormatter('%d %b')\n",
    "ax[2].xaxis.set_major_formatter(h_fmt)\n",
    "\n",
    "# Wind direction inset\n",
    "from mpl_toolkits.axes_grid1.inset_locator import inset_axes\n",
    "\n",
    "axins=inset_axes(ax[2],width=\"170%\", height=\"50%\",\n",
    "                 axes_class = matplotlib.projections.get_projection_class('polar'),\n",
    "                 borderpad=2\n",
    ")\n",
    "\n",
    "normalise = pd.Series((wind_dir_interp+ 360) % 360).interpolate()   # First normalise winds from -180-180 to 0-360, interpolate over nans\n",
    "\n",
    "histogram, bins = np.histogram(np.deg2rad(normalise), bins=25)\n",
    "bin_centers = 0.5*(bins[1:] + bins[:-1])\n",
    "axins.bar(bin_centers, histogram,label=\"Wind Orientation\",color='lightblue',bottom=0.0,alpha=0.8,edgecolor='tab:blue')\n",
    "axins.grid(alpha=0.2) \n",
    "axins.yaxis.get_major_locator().base.set_params(nbins=5)\n",
    "\n",
    "axins.tick_params(labelsize=15)\n",
    "\n",
    "#plt.savefig('figures/sg643_atmospheric_conditions.png',bbox_inches='tight',dpi=75)"
   ]
  },
  {
   "cell_type": "code",
   "execution_count": null,
   "metadata": {
    "ExecuteTime": {
     "end_time": "2020-08-17T13:37:02.924463Z",
     "start_time": "2020-08-17T13:37:01.670854Z"
    }
   },
   "outputs": [],
   "source": [
    "# Mesoscale Ekman Buoyancy Flux\n",
    "\n",
    "# Overview of mesoscale transects\n",
    "fig = plt.figure(constrained_layout=False,figsize=[15,10])\n",
    "gs = gridspec.GridSpec(2, 2, figure=fig,width_ratios=[0.3,0.7])\n",
    "ax1 = plt.subplot(gs[0,1])\n",
    "ax2 = plt.subplot(gs[1,1])\n",
    "ax3 = plt.subplot(gs[0,0])\n",
    "ax4 = plt.subplot(gs[1,0])\n",
    "\n",
    "cs1=ax3.scatter(lon[120:290],lat[120:290],c=SA[15,120:290],cmap=cmo.haline,vmin=34.0,vmax=34.2)\n",
    "xx,yy=np.meshgrid(pd.Series(lat[120:290]).interpolate(),pd.Series(depth).interpolate())\n",
    "ax1.pcolormesh(xx,yy,by[:,120:290],cmap=cmo.balance,vmin=-5e-3,vmax=-1.5e-3)\n",
    "\n",
    "\n",
    "ax1.set_ylim(60,10)\n",
    "ax1.set_xlim(-60.4,-59.25)\n",
    "ax1.plot(lat[120:290],mld[120:290],c='k')\n",
    "\n",
    "ax4.scatter(lon[1365:1485],lat[1365:1485],c=SA[15,1365:1485],cmap=cmo.haline,vmin=34.0,vmax=34.2)\n",
    "xx,yy=np.meshgrid(lat[1365:1485],depth)\n",
    "\n",
    "\n",
    "cs=ax2.pcolormesh(xx,yy,by[:,1365:1485],cmap=cmo.balance,vmin=-5e-3,vmax=-1.5e-3)\n",
    "ax2.set_ylim(60,10)\n",
    "ax2.set_xlim(-60.4,-59.25)\n",
    "ax2.plot(lat[1365:1485],mld[1365:1485],c='k')\n",
    "\n",
    "cax = fig.add_axes([0.97, 0.58, 0.03, 0.25])\n",
    "cax2 = fig.add_axes([0.97, 0.18, 0.03, 0.25])\n",
    "\n",
    "cbar1=plt.colorbar(cs1,cax=cax)\n",
    "cbar2=plt.colorbar(cs,cax=cax2)\n",
    "\n",
    "cbar1.set_label('Salinity (g kg$^{-1}$)')\n",
    "cbar2.set_label('Buoyancy (m s$^{-2}$)')\n",
    "\n",
    "cbar2.formatter.set_powerlimits((0, 0))\n",
    "cbar2.formatter._useMathText = True\n",
    "\n",
    "ax1.set_xticklabels([])\n",
    "\n",
    "ax3.set_ylabel('Latitude')\n",
    "ax4.set_ylabel('Latitude')\n",
    "ax2.set_xlabel('Latitude')\n",
    "ax2.set_ylabel('Depth (m)')\n",
    "ax1.set_ylabel('Depth (m)')\n",
    "\n",
    "ax4.set_xlabel('Longitude')\n",
    "\n",
    "\n",
    "#plt.savefig('figures/mesocale_transects.png',bbox_inches='tight',dpi=75)"
   ]
  },
  {
   "cell_type": "code",
   "execution_count": null,
   "metadata": {
    "ExecuteTime": {
     "end_time": "2020-08-17T13:38:10.513942Z",
     "start_time": "2020-08-17T13:38:10.215259Z"
    }
   },
   "outputs": [],
   "source": [
    "# Estimation of Meridional Ekman Velocity and EBF\n",
    "\n",
    "# Mesoscale Transect 1\n",
    "i = 130\n",
    "j= 270\n",
    "\n",
    "nablaS = (np.nanmean(SA[15,i:i+20])-np.nanmean(SA[15,j:j+20]))/((j-i)*1000)\n",
    "Ue = 1/(1027*f*mld[i:j+20])*(tx_interp[i:j+20])  # using non-rotated zonal wind stress, comparison with rotated component didn't change the result significantly\n",
    "Ekmany_t1=Ue*nablaS*beta[10,i:j+20]*g*mld[i:j+20]\n",
    "Qnet_ekmany_t1=(Ekmany_t1*(1027*4000)/(alpha[10,i:j+20]*g))\n",
    "\n",
    "# Mesoscale Transect 2\n",
    "\n",
    "k=1375\n",
    "l=1495\n",
    "\n",
    "nablaS = (np.nanmean(SA[15,k:k+20])-np.nanmean(SA[15,l:l+20]))/((l-k)*1000)\n",
    "Ue = 1/(1027*f*mld[k:l+20])*(tx_interp[k:l+20])\n",
    "Ekmany_t2=Ue*nablaS*beta[10,k:l+20]*g*mld[k:l+20]\n",
    "Qnet_ekmany_t2=(Ekmany_t2*(1027*4000)/(alpha[10,k:l+20]*g))\n",
    "\n",
    "\n",
    "# Figure\n",
    "plt.figure(figsize=[15,6])\n",
    "plt.plot(time[i:j+20],Qnet_ekmany_t1)\n",
    "plt.plot(time[k:l+20],Qnet_ekmany_t2)\n",
    "plt.axhline(0,c='k',alpha=0.5,linestyle='--')\n",
    "plt.ylabel('Q$_{ekman}$ (W m$^{-2}$)')\n",
    "plt.xlabel('Time')"
   ]
  },
  {
   "cell_type": "markdown",
   "metadata": {
    "ExecuteTime": {
     "end_time": "2020-04-03T10:15:16.513952Z",
     "start_time": "2020-04-03T10:15:16.506433Z"
    }
   },
   "source": [
    "## Submesoscale Heat Flux Calculations "
   ]
  },
  {
   "cell_type": "markdown",
   "metadata": {},
   "source": [
    "Submesoscale Ekman Buoyancy Flux defined by Thomas et al 2005\n",
    "\n",
    "$$\n",
    "Q_{EBF} = \\frac {-b_x \\tau _y} {f} \\frac {C_p} {\\alpha g}\n",
    "$$"
   ]
  },
  {
   "cell_type": "code",
   "execution_count": null,
   "metadata": {
    "ExecuteTime": {
     "end_time": "2020-08-17T13:38:14.767605Z",
     "start_time": "2020-08-17T13:38:14.719545Z"
    }
   },
   "outputs": [],
   "source": [
    "\n",
    "ebf,ty,angle = sms_fluxes.calc_ebf(pd.Series(bxml).interpolate(),wind_dir_interp[:-1],glider_dir[:],\n",
    "                          tx_interp[:-1],ty_interp[:-1],f,alpha[10,:-1],cp=4000,g=9.8) "
   ]
  },
  {
   "cell_type": "markdown",
   "metadata": {},
   "source": [
    "Submesoscale MLE as in Fox-Kemper et al 2008\n",
    "\n",
    "$$\n",
    "Q_{MLE} = 0.06 \\frac {b_x^2 H^2} {f} \\frac  {C_p \\rho _0} {\\alpha g}\n",
    "$$"
   ]
  },
  {
   "cell_type": "code",
   "execution_count": null,
   "metadata": {
    "ExecuteTime": {
     "end_time": "2020-08-17T13:38:16.129827Z",
     "start_time": "2020-08-17T13:38:16.121372Z"
    }
   },
   "outputs": [],
   "source": [
    "# Use 4km rolling mean to equate the heat flux to the mesoscale field\n",
    "\n",
    "Qmle = sms_fluxes.calc_qmle(pd.Series(bxml[:]).rolling(4).mean().interpolate(),pd.Series(mld[:-1]).interpolate(),alpha[10,:-1],f) # Equivalent Heat flux from mixed layer eddies\n"
   ]
  },
  {
   "cell_type": "markdown",
   "metadata": {},
   "source": [
    "### example methodology\n",
    "\n"
   ]
  },
  {
   "cell_type": "code",
   "execution_count": null,
   "metadata": {
    "ExecuteTime": {
     "end_time": "2020-08-17T13:38:20.053666Z",
     "start_time": "2020-08-17T13:38:19.058593Z"
    }
   },
   "outputs": [],
   "source": [
    "#500: Summer subset\n",
    "import seaborn as sns\n",
    "sns.set(font_scale=1.3)\n",
    "from matplotlib import pyplot, lines\n",
    "\n",
    "import cartopy\n",
    "import cartopy.crs as ccrs\n",
    "\n",
    "import matplotlib\n",
    "import matplotlib.patches as mpatches\n",
    "from cartopy.util import add_cyclic_point\n",
    "import matplotlib.ticker as mticker\n",
    "from cartopy.mpl.gridliner import LONGITUDE_FORMATTER, LATITUDE_FORMATTER\n",
    "import shapefile   \n",
    "from mpl_toolkits.axes_grid1.inset_locator import inset_axes ,InsetPosition,mark_inset\n",
    "\n",
    "import matplotlib.path as mpath\n",
    "import cmocean.cm as cmo\n",
    "\n",
    "\n",
    "sns.set_style('white')\n",
    "sns.set_style(\"ticks\", {\"xtick.major.size\": 8, \"ytick.major.size\": 8})\n",
    "\n",
    "fig = plt.figure(constrained_layout=False,figsize=[15,10])\n",
    "gs = gridspec.GridSpec(4, 2, figure=fig,width_ratios=[0.4,0.6])\n",
    "plt.subplots_adjust(wspace=0.3)\n",
    "projection =ccrs.Mercator()#\n",
    "data_crs=ccrs.PlateCarree()\n",
    "ax1 = plt.subplot(gs[:,0],projection=projection)\n",
    "ax2 = plt.subplot(gs[0,1])\n",
    "ax3 = plt.subplot(gs[1,1])\n",
    "ax4 = plt.subplot(gs[2,1])\n",
    "ax5 = plt.subplot(gs[3,1])\n",
    "\n",
    "# Select interval\n",
    "i = 505\n",
    "j = 540\n",
    "\n",
    "ax1.set_xlabel('Longitude')\n",
    "ax1.set_ylabel('Latitude')\n",
    "cs=ax1.scatter(lon[i:j],lat[i:j],c=by[15,i:j],s=80,vmin=-3e-3,vmax=-1e-3,cmap=cmo.balance,transform=data_crs) #buoayncy\n",
    "\n",
    "cax,kw = matplotlib.colorbar.make_axes(ax1,location='top',pad=0.1,shrink=0.7)\n",
    "out=fig.colorbar(cs,cax=cax,**kw)\n",
    "label=out.set_label('Buoyancy (m s$^{-2}$)',size=14,verticalalignment='bottom')\n",
    "\n",
    "out.formatter.set_powerlimits((0, 0))\n",
    "out.formatter._useMathText = True\n",
    "out.update_ticks()\n",
    "\n",
    "Q=ax1.quiver(np.array(lon[i:j]),np.array(lat[i:j]),np.array(tx_interp[i:j]),np.array(ty_interp[i:j]),alpha=0.5,scale=0.5,transform=data_crs)\n",
    "\n",
    "qk = ax1.quiverkey(Q, 0.78, 0.90, 0.1, r'$\\tau$: 0.1 N.m$^{-2}$', labelpos='N',\n",
    "                 coordinates='axes',labelcolor='Grey',alpha=0.5)  # quiver key\n",
    "\n",
    "# Clean up map\n",
    "ax1.set_extent([-0.25, 0.15, -60.15, -59.9])\n",
    "gl = ax1.gridlines(crs=ccrs.PlateCarree(), draw_labels=True,\n",
    "                  linewidth=2, color='gray', alpha=0.2, linestyle='--')\n",
    "gl.xlabels_top = False\n",
    "gl.ylabels_right = False\n",
    "gl.xlocator = mticker.FixedLocator([-0.3,-0.2, -0.1,0, 0.1,0.2])\n",
    "gl.ylocator = mticker.FixedLocator([-60.15,-60.1,-60.05, -60, -59.95,-59.9])\n",
    "\n",
    "gl.xformatter = LONGITUDE_FORMATTER\n",
    "gl.yformatter = LATITUDE_FORMATTER\n",
    "gl.xlabel_style = {'size': 10, 'color': 'k'}\n",
    "gl.xlabel_style = {'color': 'k'}\n",
    "\n",
    "gl.ylabel_style = {'size': 10, 'color': 'k'}\n",
    "gl.ylabel_style = {'color': 'k'}\n",
    "\n",
    "ax1.set_ylabel('Longitude ($^o$E)')\n",
    "ax1.set_xlabel('Latitude ($^o$N)')\n",
    "\n",
    "\n",
    "transform = ccrs.PlateCarree()._as_mpl_transform(ax1)\n",
    "\n",
    "# Add annotations\n",
    "ax1.annotate('Start', xy=(lon[505],lat[505]),  xycoords=transform,\n",
    "            xytext=(0.05,-59.98),\n",
    "            arrowprops=dict(arrowstyle=\"fancy\",\n",
    "                            fc=\"0.1\", ec=\"none\",\n",
    "                            connectionstyle=\"angle3,angleA=0,angleB=-90\"))\n",
    "\n",
    "ax1.annotate('End', xy=(lon[539],lat[539]),  xycoords=transform,\n",
    "            xytext=(-.23,-59.92),\n",
    "            arrowprops=dict(arrowstyle=\"fancy\",\n",
    "                            fc=\"0.1\", ec=\"none\",\n",
    "                            connectionstyle=\"angle3,angleA=0,angleB=-90\"))\n",
    "\n",
    "################################################\n",
    "\n",
    "# Buoyancy\n",
    "\n",
    "x,y=np.meshgrid(np.array(time[505:540]),depth[:50])\n",
    "cs=ax2.pcolormesh(x,y,by[:50,505:540],vmin=-3e-3,vmax=-1e-3,cmap=cmo.balance)\n",
    "\n",
    "ax2.plot(time[505:540],mld[505:540],c='k',lw='2')\n",
    "ax2.set_ylim(50,5)\n",
    "\n",
    "# Add annotation to show northward and southward transects\n",
    "\n",
    "a=pd.to_datetime(np.array(time[505:540]))\n",
    "x,y = np.array([[(a[0]), (a[14])], [0.24, 0.24]])\n",
    "line = lines.Line2D(x, y, lw=5., color='k', alpha=0.9)\n",
    "ax2.add_line(line)\n",
    "line.set_clip_on(False)\n",
    "\n",
    "x,y = np.array([[(a[15]), (a[34])], [0.24, 0.24]])\n",
    "line = lines.Line2D(x, y, lw=5., linestyle='--',color='k', alpha=0.9)\n",
    "ax2.add_line(line)\n",
    "line.set_clip_on(False)\n",
    "\n",
    "ax2.text(a[5],-2,'Southward')\n",
    "ax2.text(a[19],-2,'Northward')\n",
    "\n",
    "ax2.text(a[4],15,'Buoyancy',color='k')\n",
    "\n",
    "################################################\n",
    "# Rotated winds\n",
    "\n",
    "ax3.plot(time[505:521],ty[505:521],c='k')\n",
    "ax3.plot(time[520:540],ty[520:540],c='k',linestyle='--',)\n",
    "ax3.axhline(0,c='Grey',alpha=0.5,linestyle='--')\n",
    "ax3.set_ylabel(r'$\\tau^y$ (N m$^{-2}$)')\n",
    "\n",
    "################################################\n",
    "# Lateral Buoyancy Gradient\n",
    "ax4.plot(time[505:521],bxml[505:521],c='k',linestyle='-')\n",
    "ax4.plot(time[520:540],bxml[520:540],c='k',linestyle='--')\n",
    "\n",
    "ax4.ticklabel_format(axis='y',style='sci',scilimits=(-8,8))\n",
    "ax4.yaxis.major.formatter._useMathText = True\n",
    "\n",
    "ax4.ticklabel_format(axis='y', style='sci', scilimits=(-8,-8))\n",
    "ax4.yaxis.major.formatter._useMathText = True\n",
    "\n",
    "ax4.axhline(0,c='Grey',alpha=0.5,linestyle='--')\n",
    "ax4.set_ylabel('b$_x$ (s$^{-1}$)')\n",
    "\n",
    "################################################\n",
    "# SMS fluxes\n",
    "\n",
    "ax5.plot(time[505:521],ebf[505:521],c='tab:blue',linestyle='-',label='$Q_{EBF}$')\n",
    "ax5.plot(time[520:540],ebf[520:540],c='tab:blue',linestyle='--')\n",
    "\n",
    "ax5.plot(time[505:521],Qmle[505:521],c='tab:orange',linestyle='-',label='$Q_{MLE}$')\n",
    "ax5.plot(time[520:540],Qmle[520:540],c='tab:orange',linestyle='--')\n",
    "\n",
    "#ax5.set_xlim(np.array(time[505]),np.array(time[539]))\n",
    "ax5.axhline(0,c='Grey',alpha=0.5,linestyle='--')\n",
    "\n",
    "ax5.legend(loc='best',framealpha=0.5)\n",
    "ax5.set_ylabel('Equivalent Heat Flux (W m$^{-2}$)')\n",
    "\n",
    "\n",
    "# Clean up xticks\n",
    "\n",
    "h_fmt= mdates.DateFormatter('%a %d')\n",
    "ax5.xaxis.set_major_formatter(h_fmt)\n",
    "days = mdates.DayLocator( interval=1, tz=None)\n",
    "ax5.xaxis.set_major_locator(days)\n",
    "hours = mdates.HourLocator(byhour=[0,6,12,18,24], interval=1, tz=None)\n",
    "ax5.xaxis.set_minor_locator(hours)\n",
    "ax5.set_xlabel('January 2019')\n",
    "\n",
    "\n",
    "\n",
    "\n",
    "ax5.set_xlim(time[505],time[539])\n",
    "\n",
    "ax2.set_xlim(time[505],time[539])\n",
    "ax3.set_xlim(time[505],time[539])\n",
    "ax4.set_xlim(time[505],time[539])\n",
    "\n",
    "ax2.xaxis.set_major_locator(days)\n",
    "ax2.xaxis.set_minor_locator(hours)\n",
    "ax3.xaxis.set_major_locator(days)\n",
    "ax3.xaxis.set_minor_locator(hours)\n",
    "ax4.xaxis.set_major_locator(days)\n",
    "ax4.xaxis.set_minor_locator(hours)\n",
    "\n",
    "\n",
    "ax2.set_xticklabels([])\n",
    "ax3.set_xticklabels([])\n",
    "ax4.set_xticklabels([])\n",
    "\n",
    "ax5.set_ylabel('Depth (m)')\n",
    "\n",
    "#plt.savefig('figures/sms_summer_2018_subset_v3.png',transparent=True,dpi=75,bbox_inches='tight')\n",
    "\n"
   ]
  },
  {
   "cell_type": "markdown",
   "metadata": {
    "heading_collapsed": true
   },
   "source": [
    "### Total"
   ]
  },
  {
   "cell_type": "code",
   "execution_count": null,
   "metadata": {
    "ExecuteTime": {
     "end_time": "2020-08-17T10:17:35.215674Z",
     "start_time": "2020-08-17T10:17:34.407439Z"
    },
    "hidden": true
   },
   "outputs": [],
   "source": [
    "# Plot all\n",
    "fig,ax=plt.subplots(3,1,figsize=[18,15],sharex=True)\n",
    "sns.set(font_scale=2)\n",
    "\n",
    "\n",
    "sns.set_style('white')\n",
    "\n",
    "sns.set_style(\"ticks\", {\"xtick.major.size\": 8, \"ytick.major.size\": 8})\n",
    "\n",
    "\n",
    "from mpl_toolkits.axes_grid1.inset_locator import inset_axes\n",
    "from matplotlib.projections import get_projection_class\n",
    "\n",
    "#heat flux\n",
    "Qsurf = pd.Series(Qnet_F).interpolate() + pd.Series(Qnet_interp).interpolate()\n",
    "\n",
    "ax[0].plot(time,pd.Series(Qsurf).rolling(24).mean(),label='Q$_{surf}$',c='tab:red',alpha=0.8,linewidth=2)\n",
    "ax[0].plot(time,pd.Series(Qnet_interp).rolling(24).mean(),label='Q$_{net}$',c='k',alpha=0.8,linewidth=2)#ax[0].plot(time, Qfwf_interp,label='Q$_{latent}$',alpha=0.8,linewidth=3)\n",
    "ax[0].plot(time,pd.Series(Qnet_F),label='Q$_{FWF}$',alpha=0.8,linewidth=2,c='blue')\n",
    "\n",
    "ax[0].set_ylabel('W m$^{-2}$')\n",
    "\n",
    "ax[0].legend(ncol=3)\n",
    "ax[0].axhline(0,linestyle='--',c='Grey',alpha=0.8)\n",
    "\n",
    "# FWF\n",
    "ax[1].plot(time.iloc[:-1],pd.Series(ebf).rolling(10).mean().interpolate(),c='tab:blue',linewidth=2,label='Q$_{EBF}$')\n",
    "ax[1].plot(time.iloc[:-1],Qmle,c='tab:orange',linewidth=2,label='Q$_{MLE}$')\n",
    "\n",
    "\n",
    "ax[1].axhline(0,c='k',linestyle='--',alpha=0.5)\n",
    "ax[1].set_ylim(-200,200)\n",
    "ax[1].set_ylabel('W m$^{-2}$')\n",
    "\n",
    "Qtot=pd.Series(pd.Series(ebf).rolling(10).mean().interpolate()+Qmle+pd.Series(Qsurf).rolling(24).mean()).interpolate()\n",
    "ax[1].legend()\n",
    "ax[1].axhline(0,linestyle='--',c='Grey',alpha=0.8)\n",
    "\n",
    "# SMS plus atmospheric\n",
    "ax[2].plot(time,pd.Series(Qsurf).rolling(24).mean(),c='r',linewidth=3,label='Q$_{surf}$')\n",
    "\n",
    "\n",
    "ax[2].plot(time,Qtot,c='k',linewidth=1,label='Q$_{tot}$')\n",
    "ax[2].set_xlim(time.iloc[0],time.iloc[-1])\n",
    "ax[2].legend()\n",
    "ax[2].set_ylabel('W m$^{-2}$')\n",
    "\n",
    "ax[2].axhline(0,linestyle='--',c='Grey',alpha=0.8)\n",
    "\n",
    "a=pd.to_datetime(np.array(time[1954:-1]))\n",
    "x,y = np.array([[(a[0]), (a[-1])], [320, 320]])\n",
    "line = lines.Line2D(x, y, lw=5., color='k', alpha=0.9)\n",
    "ax[0].add_line(line)\n",
    "line.set_clip_on(False)\n",
    "\n",
    "\n",
    "ax[0].text(a[5],330,'Autumn',fontsize=15)\n",
    "\n",
    "\n",
    "h_fmt= mdates.DateFormatter('%d %b')\n",
    "ax[2].xaxis.set_major_formatter(h_fmt)\n",
    "\n",
    "#plt.savefig('/Users/isabelle/Documents/src/roammiz/figures/sg643_sms_fluxes_all.png',bbox_inches='tight',dpi=75)\n",
    "\n"
   ]
  },
  {
   "cell_type": "markdown",
   "metadata": {
    "heading_collapsed": true
   },
   "source": [
    "### bx and ebf underestimation analysis"
   ]
  },
  {
   "cell_type": "markdown",
   "metadata": {
    "hidden": true
   },
   "source": [
    "Assume front is oriented north south such that direction of geostrophic shear is east west.   \n",
    "For glider to sample the front perpendicularly, the glider should be angled north south to capture the full horizontal gradient(i.e. 0). Assume that bx is computed over 1000m = 1e-7. Use all the acute angles of the glider, we can compute the theoretical observed distance across the front and from this estimate how much the glider is underestimating the lateral gradients. \n"
   ]
  },
  {
   "cell_type": "code",
   "execution_count": null,
   "metadata": {
    "hidden": true
   },
   "outputs": [],
   "source": [
    "o=1000\n",
    "theta = np.abs(glider_dir)\n",
    "theta_allpossibilities = np.linspace(1,90,len(glider_dir))\n",
    "bactual=1e-4/1000 # if glider is perpendicular to front (equivalent to 0degrees here)\n",
    "bobs=[]\n",
    "for i in range(len(theta[:])):\n",
    "    if theta[i]<90:\n",
    "        h=o/np.cos(np.deg2rad(theta[i]))\n",
    "        bobs.append(1e-4/h)\n",
    "    else:\n",
    "        theta2 = 180-theta[i]\n",
    "        h=o/np.cos(np.deg2rad(theta2))\n",
    "        bobs.append(1e-4/h)\n",
    "\n",
    "ballposs=[]\n",
    "for i in range(len(theta_allpossibilities[:])):\n",
    "\n",
    "        h=o/np.sin(np.deg2rad(theta_allpossibilities[i]))\n",
    "        ballposs.append(1e-4/h)\n"
   ]
  },
  {
   "cell_type": "code",
   "execution_count": null,
   "metadata": {
    "hidden": true
   },
   "outputs": [],
   "source": [
    "allpossiblewindangles=np.linspace(-180,180,len(glider_dir))\n",
    "windangle=np.ones(len(glider_dir))*0\n",
    "perpAngle=np.ones(len(glider_dir))*180\n",
    "actualwindangles=wind_dir_interp[:-1]\n",
    "windsorted=(actualwindangles)\n",
    "\n",
    "txt=np.ones(len(glider_dir))*0.1\n",
    "tyt=np.ones(len(glider_dir))*0.1\n",
    "\n",
    "ebf_actual,_=sms_fluxes.calc_ebf(1e-7,np.abs(actualwindangles),np.ones(len(glider_dir))*180,txt,tyt,f,5e-5,cp=4000,g=9.8)\n",
    "\n",
    "#ebf_actual,_=sms_fluxes.calc_ebf(1e-7,[270,270],[90,90],\n",
    " #                         [0.1,0.1],[0.1,0.1],f,5e-5,cp=4000,g=9.8)\n",
    "ebf_obs,_=sms_fluxes.calc_ebf(1e-7,np.abs(actualwindangles),np.abs((glider_dir)),\n",
    "                          txt,tyt,f,5e-5,cp=4000,g=9.8)"
   ]
  },
  {
   "cell_type": "code",
   "execution_count": null,
   "metadata": {
    "hidden": true
   },
   "outputs": [],
   "source": [
    "import seaborn as sns\n",
    "sns.distplot(np.ma.masked_invalid((ebf_obs[:]))/ebf_actual)\n",
    "#plt.xlim(-10,10)"
   ]
  },
  {
   "cell_type": "code",
   "execution_count": null,
   "metadata": {
    "hidden": true
   },
   "outputs": [],
   "source": [
    "plt.plot(np.sort(ebf_obs))\n",
    "plt.plot(np.sort(ebf_actual))"
   ]
  },
  {
   "cell_type": "code",
   "execution_count": null,
   "metadata": {
    "hidden": true
   },
   "outputs": [],
   "source": [
    "import sklearn.metrics\n",
    "import math\n",
    "mse = sklearn.metrics.mean_squared_error( np.sort(bobs),np.ones(len(bobs))*1e-7)\n",
    "print(mse)\n",
    "rmse = math.sqrt(mse)\n",
    "print(rmse)\n",
    "print(np.nanmean(rmse/1e-7))"
   ]
  },
  {
   "cell_type": "code",
   "execution_count": null,
   "metadata": {
    "hidden": true
   },
   "outputs": [],
   "source": [
    "mse = sklearn.metrics.mean_squared_error((ebf_obs),(ebf_actual))\n",
    "#rint(mse)\n",
    "print(rmse)\n",
    "print(np.sort(ebf_actual))\n",
    "print(np.sort(ebf_obs))\n",
    "print(np.nanmean(rmse/np.nanmean(ebf_actual)))\n",
    "#1-0.43"
   ]
  },
  {
   "cell_type": "markdown",
   "metadata": {
    "hidden": true
   },
   "source": []
  },
  {
   "cell_type": "markdown",
   "metadata": {},
   "source": [
    "## Spectra Analysis"
   ]
  },
  {
   "cell_type": "code",
   "execution_count": null,
   "metadata": {
    "ExecuteTime": {
     "end_time": "2020-08-17T13:38:27.735279Z",
     "start_time": "2020-08-17T13:38:27.686868Z"
    }
   },
   "outputs": [],
   "source": [
    "from spectrum import *\n",
    "from JD_multitaper import JD_spectra\n",
    "from scipy.fftpack import fft\n",
    "from scipy import signal\n",
    "from JD_multitaper import JD_space_spectra, plot_slope, plot_ref_slope\n",
    "from scipy import stats\n",
    "\n",
    "def detrend(h):\n",
    "    n = len(h)\n",
    "    t = np.arange(n)\n",
    "    p = np.polyfit(t, h, 1)\n",
    "    h_detrended = h - np.polyval(p, t)\n",
    "    return h_detrended\n",
    "    \n",
    "def quadwin(n):\n",
    "    \"\"\"\n",
    "    Quadratic (or \"Welch\") window\n",
    "    \"\"\"\n",
    "    t = np.arange(n)\n",
    "    win = 1 - ((t - 0.5 * n) / (0.5 * n)) ** 2\n",
    "    return win"
   ]
  },
  {
   "cell_type": "code",
   "execution_count": null,
   "metadata": {
    "ExecuteTime": {
     "end_time": "2020-08-17T13:38:29.182571Z",
     "start_time": "2020-08-17T13:38:28.224731Z"
    }
   },
   "outputs": [],
   "source": [
    "# Run initial spectral analysis\n",
    "\n",
    "fig,ax=plt.subplots(figsize=[7,8])\n",
    "plt.rcParams.update({'font.size': 16})\n",
    "\n",
    "#####################################################\n",
    "\n",
    "#### All Summer\n",
    "rho1=pd.Series(np.nanmean(rho[10:30,10:],axis=0))  # Select mean of 10-30m\n",
    "rho1=rho1.interpolate()\n",
    "n = len(rho1[10:])\n",
    "h_detrended = detrend(rho1[10:]) # detrend\n",
    "winweights = quadwin(n) # filter\n",
    "h_win_r = h_detrended * winweights\n",
    "\n",
    "[Px_r3,F_r3,Pxc,hh]=JD_space_spectra(h_win_r, dl=1,\n",
    "        ax=ax,\n",
    "        f=1, nw=3, unit='(kg m$^{-3}$)$^2$')\n",
    "\n",
    "ref_slopes=[2,3]\n",
    "plt.xlim(1e-2,0)\n",
    "plt.ylim(1e-9,1e-1)\n",
    "print('all',plot_slope(Px_r3,F_r3,ax=ax,fmin=1/50,fmax=1/3))\n",
    "barmax=Pxc[0,0]*0.5e-8\n",
    "barmin=Pxc[1,0]*0.5e-8\n",
    "f=1/70\n",
    "ax.loglog([f, f],[barmin, barmax],color='k',marker='_')\n",
    "\n",
    "#####################################################\n",
    "\n",
    "\n",
    "\n",
    "#### Early Summer\n",
    "rho3=pd.Series(np.nanmean(rho[10:30,10:490],axis=0))    # Select mean of 10-30m\n",
    "rho3=rho3.interpolate()\n",
    "n = len(rho3[10:]) \n",
    "h_detrended = detrend(rho3[10:])   # detrend \n",
    "winweights = quadwin(n)   # filter with a welch window\n",
    "h_win_r = h_detrended * winweights\n",
    "\n",
    "[Px_r,F_r,Pxc,hh]=JD_space_spectra(h_win_r, dl=1,\n",
    "        ax=ax,\n",
    "        f=1, nw=3, unit='(kg m$^{-3}$)$^2$')\n",
    "\n",
    "ref_slopes=[2,3]\n",
    "plt.xlim(1e-2,0)\n",
    "plt.ylim(1e-9,1e-1)\n",
    "print('earrrly',plot_slope(Px_r,F_r,ax=ax,fmin=1/50,fmax=1/3))\n",
    "barmax=Pxc[0,0]*0.5e-8\n",
    "barmin=Pxc[1,0]*0.5e-8\n",
    "f=1/70\n",
    "ax.loglog([f, f],[barmin, barmax],color='k',marker='_')\n",
    "\n",
    "#####################################################\n",
    "\n",
    "\n",
    "\n",
    "\n",
    "#### Late Summer\n",
    "rho2=pd.Series(np.nanmean(rho[10:30,1467:1957],axis=0))\n",
    "rho2=rho2.interpolate()\n",
    "n = len(rho2[10:])\n",
    "h_detrended = detrend(rho2[10:])\n",
    "winweights = quadwin(n)\n",
    "h_win_r = h_detrended * winweights\n",
    "\n",
    "[Px_r2,F_r2,Pxc,hh]=JD_space_spectra(h_win_r, dl=1,\n",
    "        ax=ax,\n",
    "        f=1, nw=3, unit='(kg.m$^{-3}$)$^2$')\n",
    "\n",
    "ref_slopes=[2,3]\n",
    "print('late',plot_slope(Px_r2,F_r2,ax=ax,fmin=1/50,fmax=1/3))\n",
    "\n",
    "\n",
    "print(plot_slope(Px_r,F_r,ax=ax,fmin=1/50,fmax=1/3))\n",
    "barmax=Pxc[0,0]*0.5e-8\n",
    "barmin=Pxc[1,0]*0.5e-8\n",
    "f=1/70\n",
    "ax.loglog([f, f],[barmin, barmax],color='k',marker='_')\n",
    "#plot_ref_slope(fmin=5e-1,fmax=10**-2,f=10**-4,ax=ax,col='Gray',kvec=ref_slopes)\n",
    "plt.xlim(1e-2,5e-1)\n",
    "plt.ylim(1e-9,1e-1)\n",
    "print(plot_slope(Px_r3,F_r3,ax=ax,fmin=1/50,fmax=1/3))\n"
   ]
  },
  {
   "cell_type": "code",
   "execution_count": null,
   "metadata": {
    "ExecuteTime": {
     "end_time": "2020-08-17T13:38:57.745381Z",
     "start_time": "2020-08-17T13:38:57.717561Z"
    }
   },
   "outputs": [],
   "source": [
    "# Sensitivity analysis of the choice of slope for early summer\n",
    "\n",
    "a1=(plot_slope(Px_r,F_r,ax=ax,fmin=1/50,fmax=1/1)[0])\n",
    "a2=(plot_slope(Px_r,F_r,ax=ax,fmin=1/50,fmax=1/4)[0])\n",
    "a3=(plot_slope(Px_r,F_r,ax=ax,fmin=1/50,fmax=1/5)[0])\n",
    "a4=(plot_slope(Px_r,F_r,ax=ax,fmin=1/50,fmax=1/7)[0])\n",
    "a5=(plot_slope(Px_r,F_r,ax=ax,fmin=1/60,fmax=1/1)[0])\n",
    "a6=(plot_slope(Px_r,F_r,ax=ax,fmin=1/70,fmax=1/1)[0])\n",
    "a7=(plot_slope(Px_r,F_r,ax=ax,fmin=1/80,fmax=1/1)[0])\n",
    "a8=(plot_slope(Px_r,F_r,ax=ax,fmin=1/90,fmax=1/1)[0])\n",
    "\n",
    "slope1 = np.array([a1,a2,a3,a4,a5,a6,a7,a8])\n",
    "\n",
    "means1 = np.nanmean(slope1)\n",
    "\n",
    "print('mean slope early summer:',np.nanmean(slope1))\n",
    "print('standard deviation slope early summer:',np.nanstd(slope1))"
   ]
  },
  {
   "cell_type": "code",
   "execution_count": null,
   "metadata": {
    "ExecuteTime": {
     "end_time": "2020-08-17T13:38:58.221028Z",
     "start_time": "2020-08-17T13:38:58.195071Z"
    }
   },
   "outputs": [],
   "source": [
    "# Sensitivity analysis of the choice of slope for late summer\n",
    "\n",
    "b1=(plot_slope(Px_r2,F_r2,ax=ax,fmin=1/50,fmax=1/1)[0])\n",
    "b2=(plot_slope(Px_r2,F_r2,ax=ax,fmin=1/50,fmax=1/4)[0])\n",
    "b3=(plot_slope(Px_r2,F_r2,ax=ax,fmin=1/50,fmax=1/5)[0])\n",
    "b4=(plot_slope(Px_r2,F_r2,ax=ax,fmin=1/50,fmax=1/7)[0])\n",
    "b5=(plot_slope(Px_r2,F_r2,ax=ax,fmin=1/60,fmax=1/1)[0])\n",
    "b6=(plot_slope(Px_r2,F_r2,ax=ax,fmin=1/70,fmax=1/1)[0])\n",
    "b7=(plot_slope(Px_r2,F_r2,ax=ax,fmin=1/80,fmax=1/1)[0])\n",
    "b8=(plot_slope(Px_r2,F_r2,ax=ax,fmin=1/90,fmax=1/1)[0])\n",
    "\n",
    "slopes2 = (np.array([b1,b2,b3,b4,b5,b6,b7,b8]))\n",
    "\n",
    "means2 = np.nanmean(slopes2)\n",
    "\n",
    "print('mean slope late summer:',np.nanmean(slopes2))\n",
    "print('standard deviation slope late summer:',np.nanstd(slopes2))"
   ]
  },
  {
   "cell_type": "code",
   "execution_count": null,
   "metadata": {
    "ExecuteTime": {
     "end_time": "2020-08-17T13:40:36.602410Z",
     "start_time": "2020-08-17T13:40:36.588978Z"
    }
   },
   "outputs": [],
   "source": [
    "# Hack on slope functions to replace with the mean slopes as computed above\n",
    "\n",
    "\n",
    "def plot_slope1(Px,F,ax,fmin=None,fmax=None,col='k',lin='--',lw=2,offy=1):\n",
    "\n",
    "    \"\"\" This function draws the slope of the spectrum\n",
    "    Arguments:\n",
    "    Px=the vector of spectrum\n",
    "    F=the vector of frequency\n",
    "    ax=the axes in which the slopes are plotted\n",
    "    \n",
    "    Optional arguments:\n",
    "    fmin=None (if fmin=None, takes the min of F): frequency minimum where the slope is computed\n",
    "    fmax=None (if fmax=None, takes the max of F): frequency maximum where the slope is computed\n",
    "    col='k': color of the slope\n",
    "    lin='--': linestyle of the slope\n",
    "    lw=2: linewidth of the slope\n",
    "    offy=1: y offset of the slope\n",
    "    \n",
    "    Outputs:\n",
    "    The value of the slope\n",
    "\n",
    "    Author: Nicolas Barrier\n",
    "    \"\"\"\n",
    "\n",
    "    if fmin==None:\n",
    "        fmin=F.min()\n",
    "    if fmax==None:\n",
    "        fmax=F.max()\n",
    "\n",
    "    i=np.nonzero((F>=fmin)&(F<=fmax)&(F!=0))[0]\n",
    "    fout=F[i]\n",
    "    pxout=Px[i]\n",
    "\n",
    "    y=np.log(pxout)\n",
    "    x=np.log(fout)\n",
    "    from scipy import stats\n",
    "    slope, intercept, r_value, p_value, std_err = stats.linregress(x,y)\n",
    "\n",
    "    confidence_interval = 2.58*std_err #99%\n",
    "    \n",
    "    p=np.polyfit(x,y,1)\n",
    "    \n",
    "    \n",
    "   # trend=np.exp(p[0]*x+p[1]+offy)\n",
    "    trend=np.exp(means2*x+p[1]+offy)\n",
    "\n",
    "\n",
    "    \n",
    "    ax.loglog(fout,trend,color=col,linestyle=lin,lw=lw)\n",
    "    \n",
    "    \n",
    "def plot_slope2(Px,F,ax,fmin=None,fmax=None,col='k',lin='--',lw=2,offy=1):\n",
    "\n",
    "    \"\"\" This function draws the slope of the spectrum\n",
    "    Arguments:\n",
    "    Px=the vector of spectrum\n",
    "    F=the vector of frequency\n",
    "    ax=the axes in which the slopes are plotted\n",
    "    \n",
    "    Optional arguments:\n",
    "    fmin=None (if fmin=None, takes the min of F): frequency minimum where the slope is computed\n",
    "    fmax=None (if fmax=None, takes the max of F): frequency maximum where the slope is computed\n",
    "    col='k': color of the slope\n",
    "    lin='--': linestyle of the slope\n",
    "    lw=2: linewidth of the slope\n",
    "    offy=1: y offset of the slope\n",
    "    \n",
    "    Outputs:\n",
    "    The value of the slope\n",
    "\n",
    "    Author: Nicolas Barrier\n",
    "    \"\"\"\n",
    "\n",
    "    if fmin==None:\n",
    "        fmin=F.min()\n",
    "    if fmax==None:\n",
    "        fmax=F.max()\n",
    "\n",
    "    i=np.nonzero((F>=fmin)&(F<=fmax)&(F!=0))[0]\n",
    "    fout=F[i]\n",
    "    pxout=Px[i]\n",
    "\n",
    "    y=np.log(pxout)\n",
    "    x=np.log(fout)\n",
    "    from scipy import stats\n",
    "    slope, intercept, r_value, p_value, std_err = stats.linregress(x,y)\n",
    "\n",
    "    confidence_interval = 2.58*std_err #99%\n",
    "    \n",
    "    p=np.polyfit(x,y,1)\n",
    "    \n",
    "    \n",
    "   # trend=np.exp(p[0]*x+p[1]+offy)\n",
    "    trend=np.exp(means1*x+p[1]+offy)\n",
    "\n",
    "\n",
    "    \n",
    "    ax.loglog(fout,trend,color=col,linestyle=lin,lw=lw)\n",
    "    \n"
   ]
  },
  {
   "cell_type": "code",
   "execution_count": null,
   "metadata": {
    "ExecuteTime": {
     "end_time": "2020-08-17T13:40:38.172457Z",
     "start_time": "2020-08-17T13:40:37.295326Z"
    }
   },
   "outputs": [],
   "source": [
    "# The formatting of this is still a bit of a hack, but it works :P \n",
    "\n",
    "fig,ax=plt.subplots(1,1,figsize=[10,10])\n",
    "ax.loglog(F_r3,Px_r3,c='Grey',alpha=0.5,linewidth=3,label='Total')\n",
    "ax.loglog(F_r,Px_r,c='tab:blue',linewidth=4,label='Early Summer')\n",
    "\n",
    "\n",
    "ax.loglog(F_r2,Px_r2,c='tab:red',linewidth=4,label='Late Summer')\n",
    "plot_ref_slope(fmin=5e-1,fmax=10**-2,f=10**-4,ax=ax,col='Gray',kvec=ref_slopes)\n",
    "\n",
    "\n",
    "\n",
    "plt.legend(fontsize=16)\n",
    "ax.set_xlim(8e-3,5e-1)\n",
    "ax.set_ylim(1.5e-8,1e-1)\n",
    "barmax=Pxc[0,0]*1e-7\n",
    "barmin=Pxc[1,0]*1e-7\n",
    "f=1/70\n",
    "ax.loglog([f, f],[barmin, barmax],color='k',marker='_')\n",
    "\n",
    "#############\n",
    "\n",
    "plot_slope1(Px_r2,F_r2,ax=ax,fmin=1/50,fmax=1/3,col='tab:red')\n",
    "\n",
    "############\n",
    "\n",
    "plot_slope2(Px_r,F_r,ax=ax,fmin=1/50,fmax=1/3,col='tab:blue')\n",
    "\n",
    "ax.set_xlabel('Wavenumber (cpkm)',fontsize=16)\n",
    "ax.set_ylabel('Power Spectrum Density (kg m$^{-3}$)$^2$ cpkm$^{-1}$',fontsize=16)\n",
    "\n",
    "\n",
    "ax.annotate('$k^{-2}$', xy=(1e-1,1.9e-3),  xycoords='data',\n",
    "            xytext=(1e-1,1e-3),\n",
    "           )\n",
    "\n",
    "ax.annotate('$k^{-3}$', xy=(1e-1,2e-2),  xycoords='data',\n",
    "            xytext=(1e-1,2e-2),\n",
    "           )\n",
    "\n",
    "#plt.savefig('figures/power_spectra.png',transparent=True,dpi=150,bbox_inches='tight')\n",
    "#"
   ]
  },
  {
   "cell_type": "markdown",
   "metadata": {
    "ExecuteTime": {
     "end_time": "2020-08-17T11:11:39.614049Z",
     "start_time": "2020-08-17T11:11:39.611384Z"
    }
   },
   "source": [
    "## Spice analysis\n",
    "\n",
    "We suspect little vertical exchange across the thermocline in this region.  \n",
    "This is associated with increased stratification by sea ice melt water. \n",
    "i.e. MLE are confined to the ML.  \n",
    "Here, this hypothesis is tested"
   ]
  },
  {
   "cell_type": "code",
   "execution_count": null,
   "metadata": {
    "ExecuteTime": {
     "end_time": "2020-08-17T18:08:17.445991Z",
     "start_time": "2020-08-17T18:08:17.436870Z"
    }
   },
   "outputs": [],
   "source": [
    "# First call regridded data along isopycnals\n",
    "ds_iso = xr.open_dataset('data/sg643/sg643_grid_density_surfaces.nc')\n"
   ]
  },
  {
   "cell_type": "code",
   "execution_count": null,
   "metadata": {
    "ExecuteTime": {
     "end_time": "2020-08-17T18:08:17.828204Z",
     "start_time": "2020-08-17T18:08:17.814997Z"
    }
   },
   "outputs": [],
   "source": [
    "ds_iso"
   ]
  },
  {
   "cell_type": "code",
   "execution_count": null,
   "metadata": {
    "ExecuteTime": {
     "end_time": "2020-08-17T13:45:24.984734Z",
     "start_time": "2020-08-17T13:45:24.972779Z"
    }
   },
   "outputs": [],
   "source": [
    "spice_iso=gsw.spiciness0(ds_iso.salinity,ds_iso.sea_water_temperature)  # Compute spiciness along isopycnals"
   ]
  },
  {
   "cell_type": "code",
   "execution_count": null,
   "metadata": {
    "ExecuteTime": {
     "end_time": "2020-08-17T18:13:36.086380Z",
     "start_time": "2020-08-17T18:13:35.675044Z"
    }
   },
   "outputs": [],
   "source": [
    "# Look at salinity by density surfaces\n",
    "xx,yy=np.meshgrid(ds_iso.distance/1000,ds_iso.density)\n",
    "plt.figure(figsize=[15,5])\n",
    "plt.pcolormesh(xx,yy,ds_iso.salinity,vmin=33.9,vmax=34.7,cmap=cmo.haline) # blues are the ML\n",
    "plt.ylim(ds_iso.density.max(),ds_iso.density.min())\n",
    "plt.colorbar()"
   ]
  },
  {
   "cell_type": "code",
   "execution_count": null,
   "metadata": {
    "ExecuteTime": {
     "end_time": "2020-08-17T18:13:40.798089Z",
     "start_time": "2020-08-17T18:13:40.379997Z"
    }
   },
   "outputs": [],
   "source": [
    "#Spiciness\n",
    "xx,yy=np.meshgrid(ds_iso.distance/1000,ds_iso.density)\n",
    "plt.figure(figsize=[15,5])\n",
    "plt.pcolormesh(xx,yy,spice_iso) # blues are the ML\n",
    "plt.ylim(ds_iso.density.max(),ds_iso.density.min())\n",
    "plt.colorbar()"
   ]
  },
  {
   "cell_type": "code",
   "execution_count": null,
   "metadata": {
    "ExecuteTime": {
     "end_time": "2020-08-17T14:40:30.911888Z",
     "start_time": "2020-08-17T14:40:30.907413Z"
    }
   },
   "outputs": [],
   "source": [
    "spice_ML = pd.Series(np.nanmean(spice_iso[25:30,:],axis=0))\n",
    "spice_deeper = pd.Series(np.nanmean(spice_iso[55:60,:],axis=0))"
   ]
  },
  {
   "cell_type": "code",
   "execution_count": null,
   "metadata": {
    "ExecuteTime": {
     "end_time": "2020-08-17T14:40:20.324170Z",
     "start_time": "2020-08-17T14:40:19.940882Z"
    }
   },
   "outputs": [],
   "source": [
    "# Visualise on two isopycnals (surface and at depth)\n",
    "fig,ax=plt.subplots(2,1,figsize=[12,6],sharex=True)\n",
    "\n",
    "ax[0].set_title(np.nanmean(ds_iso['density'][25:30]))\n",
    "ax[0].plot(time,pd.Series(np.nanmean(spice_iso[25:30,:],axis=0)))\n",
    "ax[1].set_title(np.nanmean(ds_iso['density'][55:60]))\n",
    "ax[1].plot(time,pd.Series(np.nanmean(spice_iso[55:60,:],axis=0)))"
   ]
  },
  {
   "cell_type": "code",
   "execution_count": null,
   "metadata": {
    "ExecuteTime": {
     "end_time": "2020-08-17T13:54:27.616510Z",
     "start_time": "2020-08-17T13:54:27.613880Z"
    }
   },
   "outputs": [],
   "source": [
    "# Correlation analysis"
   ]
  },
  {
   "cell_type": "code",
   "execution_count": null,
   "metadata": {
    "ExecuteTime": {
     "end_time": "2020-08-17T17:37:30.792480Z",
     "start_time": "2020-08-17T17:37:30.638826Z"
    }
   },
   "outputs": [],
   "source": [
    "plt.scatter(spice_ML[:],spice_deeper[:])  # There is some structure but not in the whole timeseries"
   ]
  },
  {
   "cell_type": "code",
   "execution_count": null,
   "metadata": {
    "ExecuteTime": {
     "end_time": "2020-08-17T17:37:32.726978Z",
     "start_time": "2020-08-17T17:37:32.719681Z"
    }
   },
   "outputs": [],
   "source": [
    "from corr_JD import covariance,covlag, correlation\n",
    "covariance(spice_ML[1:],spice_deeper[1:])"
   ]
  },
  {
   "cell_type": "code",
   "execution_count": null,
   "metadata": {
    "ExecuteTime": {
     "end_time": "2020-08-17T17:37:33.577932Z",
     "start_time": "2020-08-17T17:37:33.568464Z"
    }
   },
   "outputs": [],
   "source": [
    "def covlag(x,y,maxlag):\n",
    "\n",
    "    \"\"\" Compute the lead-lag covariance between two time series, given a maximum lag.\n",
    "    \n",
    "    Arguments:\n",
    "    x: 1D array (dominates at positive lags)\n",
    "    y: 1D array\n",
    "    maxlag: maximum number of lags (integer)\n",
    "    \n",
    "    Outputs:\n",
    "    tuple(ccv,lag), with ccv the cross-covariance and lag the lag vectors\n",
    "    \n",
    "    Author: Julie Deshayes\n",
    "    \"\"\"\n",
    "\n",
    "    x=np.ma.array(x,mask=x!=x)\n",
    "    \n",
    "    y=np.ma.array(y,mask=y!=y)\n",
    "\n",
    "    n=len(x)\n",
    "    xleady=np.zeros(maxlag+1)\n",
    "    yleadx=np.zeros(maxlag+1)\n",
    "    \n",
    "    lag=np.arange(0,maxlag+1,1)\n",
    "\n",
    "    for l in lag:\n",
    "        \n",
    "        xint=x[l:]\n",
    "        yint=y[0:n-l]\n",
    "        iok=np.nonzero((xint.mask==False)&(yint.mask==False))[0]\n",
    "        if len(iok)>0:\n",
    "            yleadx[l]=covariance(xint[iok],yint[iok])\n",
    "  \n",
    "        yint=y[l:]\n",
    "        xint=x[0:n-l]\n",
    "        iok=np.nonzero((xint.mask==False)&(yint.mask==False))[0]\n",
    "        if len(iok)>0:\n",
    "            xleady[l]=covariance(xint[iok],yint[iok])\n",
    "  \n",
    "    ccv=np.empty(2*maxlag+1)\n",
    "    ccv[0:maxlag]=yleadx[1:][::-1]\n",
    "    ccv[maxlag:]=xleady\n",
    "    ccv=np.ma.masked_where(ccv==0,ccv)\n",
    "\n",
    "    lag=np.arange(-maxlag,maxlag+1,1)\n",
    "    return ccv,lag"
   ]
  },
  {
   "cell_type": "code",
   "execution_count": null,
   "metadata": {
    "ExecuteTime": {
     "end_time": "2020-08-17T17:49:20.382937Z",
     "start_time": "2020-08-17T17:49:20.374258Z"
    }
   },
   "outputs": [],
   "source": [
    "def corlag(x,y,maxlag):\n",
    "\n",
    "    \"\"\" Compute the lead-lag correlation between two time series, given a maximum lag.\n",
    "    \n",
    "    Arguments:\n",
    "    x: 1D array (dominates at positive lags)\n",
    "    y: 1D array\n",
    "    maxlag: maximum number of lags (integer)\n",
    "    \n",
    "    Outputs:\n",
    "    tuple(ccr,lag), with ccr the cross-correlation and lag the lag vectors\n",
    "    \n",
    "    Author: Nicolas Barrier\n",
    "    \"\"\"\n",
    "\n",
    "    x=np.ma.array(x,mask=x!=x)\n",
    "    \n",
    "    y=np.ma.array(y,mask=y!=y)\n",
    "\n",
    "    n=len(x)\n",
    "    xleady=np.zeros(maxlag+1)\n",
    "    yleadx=np.zeros(maxlag+1)\n",
    "   \n",
    "    #eval(['print'+y+' leads for negative lags'])\n",
    "    \n",
    "    lag=np.arange(0,maxlag+1,1)\n",
    "\n",
    "    for l in lag:\n",
    "        \n",
    "        xint=x[l:]\n",
    "        yint=y[0:n-l]\n",
    "        iok=np.nonzero((xint.mask==False)&(yint.mask==False))[0]\n",
    "        if len(iok)>0:\n",
    "            yleadx[l]=correlation(xint[iok],yint[iok])\n",
    "  \n",
    "        yint=y[l:]\n",
    "        xint=x[0:n-l]\n",
    "        iok=np.nonzero((xint.mask==False)&(yint.mask==False))[0]\n",
    "        if len(iok)>0:\n",
    "            xleady[l]=correlation(xint[iok],yint[iok])[0,1]\n",
    "  \n",
    "    ccr=np.empty(2*maxlag+1)\n",
    "    ccr[0:maxlag]=yleadx[1:][::-1]\n",
    "    ccr[maxlag:]=xleady\n",
    "    ccr=np.ma.masked_where(ccr==0,ccr)\n",
    "\n",
    "    lag=np.arange(-maxlag,maxlag+1,1)\n",
    "    return ccr,lag"
   ]
  },
  {
   "cell_type": "code",
   "execution_count": null,
   "metadata": {
    "ExecuteTime": {
     "end_time": "2020-08-17T18:15:32.569866Z",
     "start_time": "2020-08-17T18:15:32.565931Z"
    }
   },
   "outputs": [],
   "source": [
    "spice_deeper = pd.Series(np.nanmean(spice_iso[55:60,:],axis=0))"
   ]
  },
  {
   "cell_type": "code",
   "execution_count": null,
   "metadata": {
    "ExecuteTime": {
     "end_time": "2020-08-17T18:15:50.875919Z",
     "start_time": "2020-08-17T18:15:50.843331Z"
    }
   },
   "outputs": [],
   "source": [
    "ccv,lag=covlag(spice_ML[1:1000],spice_deeper[1:1000],maxlag=30)"
   ]
  },
  {
   "cell_type": "code",
   "execution_count": null,
   "metadata": {
    "ExecuteTime": {
     "end_time": "2020-08-17T18:15:51.474614Z",
     "start_time": "2020-08-17T18:15:51.345356Z"
    }
   },
   "outputs": [],
   "source": [
    "plt.plot(lag,ccv)\n",
    "plt.ylabel('Cross covariance')\n",
    "plt.xlabel('Lags (km)')"
   ]
  },
  {
   "cell_type": "code",
   "execution_count": null,
   "metadata": {},
   "outputs": [],
   "source": []
  }
 ],
 "metadata": {
  "kernelspec": {
   "display_name": "Python 3",
   "language": "python",
   "name": "python3"
  },
  "language_info": {
   "codemirror_mode": {
    "name": "ipython",
    "version": 3
   },
   "file_extension": ".py",
   "mimetype": "text/x-python",
   "name": "python",
   "nbconvert_exporter": "python",
   "pygments_lexer": "ipython3",
   "version": "3.7.4"
  },
  "latex_envs": {
   "LaTeX_envs_menu_present": true,
   "autoclose": false,
   "autocomplete": true,
   "bibliofile": "biblio.bib",
   "cite_by": "apalike",
   "current_citInitial": 1,
   "eqLabelWithNumbers": true,
   "eqNumInitial": 1,
   "hotkeys": {
    "equation": "Ctrl-E",
    "itemize": "Ctrl-I"
   },
   "labels_anchors": false,
   "latex_user_defs": false,
   "report_style_numbering": false,
   "user_envs_cfg": false
  },
  "toc": {
   "base_numbering": 1,
   "nav_menu": {},
   "number_sections": true,
   "sideBar": true,
   "skip_h1_title": false,
   "title_cell": "Table of Contents",
   "title_sidebar": "Contents",
   "toc_cell": false,
   "toc_position": {},
   "toc_section_display": true,
   "toc_window_display": false
  }
 },
 "nbformat": 4,
 "nbformat_minor": 4
}
